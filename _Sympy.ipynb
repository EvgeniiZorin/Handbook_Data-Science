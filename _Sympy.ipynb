{
 "cells": [
  {
   "cell_type": "code",
   "execution_count": 1,
   "metadata": {},
   "outputs": [
    {
     "data": {
      "text/latex": [
       "$\\displaystyle 4.44288293815837$"
      ],
      "text/plain": [
       "4.44288293815837"
      ]
     },
     "execution_count": 1,
     "metadata": {},
     "output_type": "execute_result"
    }
   ],
   "source": [
    "from sympy import *\n",
    "\n",
    "N(sqrt(2) * pi)"
   ]
  },
  {
   "cell_type": "code",
   "execution_count": 3,
   "metadata": {},
   "outputs": [
    {
     "data": {
      "text/latex": [
       "$\\displaystyle 0.845098040014257$"
      ],
      "text/plain": [
       "0.845098040014257"
      ]
     },
     "execution_count": 3,
     "metadata": {},
     "output_type": "execute_result"
    }
   ],
   "source": [
    "N( log(7, 10) ) # log 7 base 10"
   ]
  },
  {
   "cell_type": "code",
   "execution_count": 5,
   "metadata": {},
   "outputs": [
    {
     "data": {
      "text/plain": [
       "[2]"
      ]
     },
     "execution_count": 5,
     "metadata": {},
     "output_type": "execute_result"
    }
   ],
   "source": [
    "import sympy\n",
    "from sympy.solvers import solve\n",
    "from sympy import Symbol, nsolve\n",
    "\n",
    "\"\"\"\n",
    "solve: 2x - 4 = 0\n",
    "solution: x = 2\n",
    "\"\"\"\n",
    "x = Symbol('x')\n",
    "a = solve(2*x - 4, x)\n",
    "a"
   ]
  },
  {
   "cell_type": "code",
   "execution_count": 42,
   "metadata": {},
   "outputs": [
    {
     "name": "stdout",
     "output_type": "stream",
     "text": [
      "[125]\n",
      "[121]\n",
      "[3]\n",
      "[-13, 3]\n"
     ]
    }
   ],
   "source": [
    "\"\"\"\n",
    "solve: log_5(x) = 3\n",
    "solution: x = 125\n",
    "\"\"\"\n",
    "a = solve( sympy.log(x, 5) - 3 )\n",
    "print(a)\n",
    "\n",
    "\"\"\"\n",
    "solve: log_5(x+4) = 3\n",
    "solution: x = 121\n",
    "\"\"\"\n",
    "a = solve( sympy.log(x+4, 5) - 3 )\n",
    "print(a)\n",
    "\n",
    "a = solve( sympy.log(x + 22, 5) - 2 )\n",
    "print(a)\n",
    "\n",
    "a = solve( sympy.log((x+5)**2, 4) - 3 )\n",
    "print(a)\n",
    "\n",
    "\n"
   ]
  },
  {
   "cell_type": "code",
   "execution_count": 31,
   "metadata": {},
   "outputs": [
    {
     "data": {
      "text/plain": [
       "[-1, 1]"
      ]
     },
     "execution_count": 31,
     "metadata": {},
     "output_type": "execute_result"
    }
   ],
   "source": [
    "import math\n",
    "math.e\n",
    "\n",
    "solve( x**2 - 1 )"
   ]
  }
 ],
 "metadata": {
  "kernelspec": {
   "display_name": "data-science",
   "language": "python",
   "name": "python3"
  },
  "language_info": {
   "codemirror_mode": {
    "name": "ipython",
    "version": 3
   },
   "file_extension": ".py",
   "mimetype": "text/x-python",
   "name": "python",
   "nbconvert_exporter": "python",
   "pygments_lexer": "ipython3",
   "version": "3.9.12"
  }
 },
 "nbformat": 4,
 "nbformat_minor": 2
}
