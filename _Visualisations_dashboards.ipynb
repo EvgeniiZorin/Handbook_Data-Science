{
 "cells": [
  {
   "cell_type": "markdown",
   "id": "66d1decb",
   "metadata": {},
   "source": [
    "## Streamlit\n",
    "\n",
    "Examples: \n",
    "- https://streamlit.io/gallery\n",
    "\n",
    "**Pagination**\n",
    "\n",
    "To order pages manually AND to add icons:\n",
    "\n",
    "```txt\n",
    "> pages\n",
    "    > 2_😀_Projects.py\n",
    "    > 3_😡_Contact.py\n",
    "```\n",
    "\n",
    "**Sidebar**\n",
    "\n",
    "`st.write` vs `st.sidebar.write`\n",
    "\n",
    "**Basic elements**\n",
    "\n",
    "Text elements:\n",
    "```py\n",
    "# horisontal line\n",
    "st.markdown(\"\"\"---\"\"\")\n",
    "\n",
    "st.title(\"Title here\")\n",
    "\n",
    "st.header('Header here')\n",
    "\n",
    "st.markdown(f\"\"\"\n",
    "                Some text here.\n",
    "            \"\"\")\n",
    "\n",
    "```\n",
    "\n",
    "Other elements:\n",
    "\n",
    "You can assign their output by: `output_element = st.radio(...)`\n",
    "\n",
    "```py\n",
    "st.multiselect(\n",
    "    label='Select categories:',\n",
    "    options=['option1', 'option2', 'option3'],\n",
    "    default=['option1', 'option2']\n",
    ")\n",
    "\n",
    "st.radio(\n",
    "    label='Sort all plots in the order:',\n",
    "    options=['Descending', 'Ascending'],\n",
    "    index=0\n",
    ")\n",
    "\n",
    "```\n"
   ]
  },
  {
   "cell_type": "markdown",
   "id": "0487d9ef",
   "metadata": {},
   "source": [
    "## Plotly Dash\n",
    "\n",
    "\n",
    "https://dash.plotly.com/\n",
    "\n",
    "\n",
    "\n",
    "\n",
    "Structure:\n",
    "```py\n",
    "def plot_1(df):\n",
    "    \"\"\"\n",
    "    This is a static plot,\n",
    "    not connected to any callbacks\n",
    "    \"\"\"\n",
    "    fig = px.bar(\n",
    "        df, x='variable 1', y='variable 2',\n",
    "        title=f\"First symptoms\",\n",
    "        labels={'First symptom': '', 'Percentage': ''},\n",
    "        text='Percentage'\n",
    "    )\n",
    "    return fig\n",
    "\n",
    "Page_content = [\n",
    "    dbc.Container([ ### wrapping everything into this container is optional\n",
    "        html.H1('Welcome to this page!'),\n",
    "        html.Div('Hello there!'),\n",
    "        html.Div(id='thing1'), # get text from callback with output id='thing1'\n",
    "        dcc.Graph(id='plot_1', figure=plot_1(df1)) ### plot a static figure here\n",
    "    ])\n",
    "]\n",
    "```\n",
    "\n",
    "---\n",
    "\n",
    "Multi-page dashboard: https://dash.plotly.com/urls?_gl=1*xg014t*_ga*MTg1MzEwMjY5MC4xNzA4NDc5MzA5*_ga_6G7EE0JNSC*MTcxNDE0ODE0Ni40MS4xLjE3MTQxNDkyNTQuNjAuMC4w#example:-simple-multi-page-app-with-pages\n",
    "\n",
    "\n",
    "---\n",
    "\n",
    "Get id of the last-clicked element: ctx\n",
    "- https://dash.plotly.com/determining-which-callback-input-changed\n",
    "\n"
   ]
  },
  {
   "cell_type": "markdown",
   "id": "5d63b7c1",
   "metadata": {},
   "source": [
    "### Authorisation\n",
    "\n",
    "**Simple Authorisation**\n",
    "\n",
    "Simply add the code snippet below to your Dash application: \n",
    "```py\n",
    "# Import library\n",
    "# pip install dash_auth\n",
    "import dash_auth\n",
    "\n",
    "# You must have a dictionary with usename:pw pairs:\n",
    "VALID_USERNAME_PASSWORD_PAIRS = {\n",
    "    'hello': 'world'\n",
    "}\n",
    "\n",
    "# Also, after \"app = dash.Dash(__name__)\" add the following sentence:\n",
    "auth = dash_auth.BasicAuth(\n",
    "    app,\n",
    "    VALID_USERNAME_PASSWORD_PAIRS\n",
    ")\n",
    "```\n",
    "\n",
    "---\n",
    "\n",
    "**Using env variable for password storage**\n",
    "```py\n",
    "import os\n",
    "import dash_auth\n",
    "\n",
    "cred_username = 'username_here'\n",
    "cred_pw = os.environ.get(cred_username)\n",
    "VALID_USERNAME_PASSWORD_PAIRS = {\n",
    "    cred_username: cred_pw\n",
    "}\n",
    "\n",
    "### Initialise dash app object\n",
    "app = Dash(\n",
    "    __name__,\n",
    "\texternal_stylesheets=[dbc.themes.BOOTSTRAP]\n",
    ")\n",
    "### Add an authorisation layer\n",
    "dash_auth.BasicAuth(\n",
    "    app,\n",
    "    VALID_USERNAME_PASSWORD_PAIRS,\n",
    "    secret_key='somestring'\n",
    ")\n",
    "```\n"
   ]
  },
  {
   "cell_type": "markdown",
   "id": "07a1d872",
   "metadata": {},
   "source": [
    "### Markdown and text components\n",
    "\n",
    "\n",
    "`html.Hr()` - horisontal line\n",
    "\n",
    "`html.Blockquote('text here')` - like `>` in markdown\n",
    "\n",
    "```py\n",
    "    dcc.Markdown('''\n",
    "                # Hello!\n",
    "                \n",
    "                >\n",
    "                > asdf\n",
    "                >\n",
    "                \n",
    "                 In this text we have *bold* and **italic** text.\n",
    "                - asdf\n",
    "                - asdf\n",
    "                 \n",
    "                ~~asdf dd~~\n",
    "                 \n",
    "                > Blockquote 2\n",
    "                 \n",
    "                ```\n",
    "                for i in list1:\n",
    "                    print(i)\n",
    "                ```\n",
    "                 \n",
    "                '''),\n",
    "\n",
    "dcc.Markdown(\"\"\"\n",
    "Quote1\\n>asdf\\n\\nQuote2\\n>quote 2 text\\n\\nQuote3\\nasdf\n",
    "\"\"\"),\n",
    "\n",
    "```\n"
   ]
  },
  {
   "cell_type": "markdown",
   "id": "f43a4554",
   "metadata": {},
   "source": [
    "### Filters\n",
    "\n",
    "```py\n",
    "dcc.RangeSlider(\n",
    "    2019, 2024, 1, value=[2019, 2024],\n",
    "    id='my-range-slider',\n",
    "    marks={i:j for i,j in zip( list(range(2019, 2025, 1)), [str(k) for k in list(range(2019, 2025, 1))] )}\n",
    ")\n",
    "```\n"
   ]
  },
  {
   "cell_type": "markdown",
   "id": "727db0a5",
   "metadata": {},
   "source": [
    "### doughnut"
   ]
  },
  {
   "cell_type": "code",
   "execution_count": null,
   "id": "37e7eccf",
   "metadata": {},
   "outputs": [
    {
     "data": {
      "application/vnd.plotly.v1+json": {
       "config": {
        "plotlyServerURL": "https://plot.ly"
       },
       "data": [
        {
         "domain": {
          "x": [
           0,
           1
          ],
          "y": [
           0,
           1
          ]
         },
         "hole": 0.4,
         "hovertemplate": "feature1=%{label}<br>percentage=%{value}<extra></extra>",
         "labels": [
          "a",
          "b",
          "c"
         ],
         "legendgroup": "",
         "name": "",
         "showlegend": true,
         "textinfo": "percent+label",
         "textposition": "inside",
         "type": "pie",
         "values": [
          50,
          20,
          30
         ]
        }
       ],
       "layout": {
        "legend": {
         "tracegroupgap": 0
        },
        "margin": {
         "b": 10,
         "l": 10,
         "r": 10,
         "t": 50
        },
        "showlegend": false,
        "template": {
         "data": {
          "bar": [
           {
            "error_x": {
             "color": "#2a3f5f"
            },
            "error_y": {
             "color": "#2a3f5f"
            },
            "marker": {
             "line": {
              "color": "#E5ECF6",
              "width": 0.5
             },
             "pattern": {
              "fillmode": "overlay",
              "size": 10,
              "solidity": 0.2
             }
            },
            "type": "bar"
           }
          ],
          "barpolar": [
           {
            "marker": {
             "line": {
              "color": "#E5ECF6",
              "width": 0.5
             },
             "pattern": {
              "fillmode": "overlay",
              "size": 10,
              "solidity": 0.2
             }
            },
            "type": "barpolar"
           }
          ],
          "carpet": [
           {
            "aaxis": {
             "endlinecolor": "#2a3f5f",
             "gridcolor": "white",
             "linecolor": "white",
             "minorgridcolor": "white",
             "startlinecolor": "#2a3f5f"
            },
            "baxis": {
             "endlinecolor": "#2a3f5f",
             "gridcolor": "white",
             "linecolor": "white",
             "minorgridcolor": "white",
             "startlinecolor": "#2a3f5f"
            },
            "type": "carpet"
           }
          ],
          "choropleth": [
           {
            "colorbar": {
             "outlinewidth": 0,
             "ticks": ""
            },
            "type": "choropleth"
           }
          ],
          "contour": [
           {
            "colorbar": {
             "outlinewidth": 0,
             "ticks": ""
            },
            "colorscale": [
             [
              0,
              "#0d0887"
             ],
             [
              0.1111111111111111,
              "#46039f"
             ],
             [
              0.2222222222222222,
              "#7201a8"
             ],
             [
              0.3333333333333333,
              "#9c179e"
             ],
             [
              0.4444444444444444,
              "#bd3786"
             ],
             [
              0.5555555555555556,
              "#d8576b"
             ],
             [
              0.6666666666666666,
              "#ed7953"
             ],
             [
              0.7777777777777778,
              "#fb9f3a"
             ],
             [
              0.8888888888888888,
              "#fdca26"
             ],
             [
              1,
              "#f0f921"
             ]
            ],
            "type": "contour"
           }
          ],
          "contourcarpet": [
           {
            "colorbar": {
             "outlinewidth": 0,
             "ticks": ""
            },
            "type": "contourcarpet"
           }
          ],
          "heatmap": [
           {
            "colorbar": {
             "outlinewidth": 0,
             "ticks": ""
            },
            "colorscale": [
             [
              0,
              "#0d0887"
             ],
             [
              0.1111111111111111,
              "#46039f"
             ],
             [
              0.2222222222222222,
              "#7201a8"
             ],
             [
              0.3333333333333333,
              "#9c179e"
             ],
             [
              0.4444444444444444,
              "#bd3786"
             ],
             [
              0.5555555555555556,
              "#d8576b"
             ],
             [
              0.6666666666666666,
              "#ed7953"
             ],
             [
              0.7777777777777778,
              "#fb9f3a"
             ],
             [
              0.8888888888888888,
              "#fdca26"
             ],
             [
              1,
              "#f0f921"
             ]
            ],
            "type": "heatmap"
           }
          ],
          "heatmapgl": [
           {
            "colorbar": {
             "outlinewidth": 0,
             "ticks": ""
            },
            "colorscale": [
             [
              0,
              "#0d0887"
             ],
             [
              0.1111111111111111,
              "#46039f"
             ],
             [
              0.2222222222222222,
              "#7201a8"
             ],
             [
              0.3333333333333333,
              "#9c179e"
             ],
             [
              0.4444444444444444,
              "#bd3786"
             ],
             [
              0.5555555555555556,
              "#d8576b"
             ],
             [
              0.6666666666666666,
              "#ed7953"
             ],
             [
              0.7777777777777778,
              "#fb9f3a"
             ],
             [
              0.8888888888888888,
              "#fdca26"
             ],
             [
              1,
              "#f0f921"
             ]
            ],
            "type": "heatmapgl"
           }
          ],
          "histogram": [
           {
            "marker": {
             "pattern": {
              "fillmode": "overlay",
              "size": 10,
              "solidity": 0.2
             }
            },
            "type": "histogram"
           }
          ],
          "histogram2d": [
           {
            "colorbar": {
             "outlinewidth": 0,
             "ticks": ""
            },
            "colorscale": [
             [
              0,
              "#0d0887"
             ],
             [
              0.1111111111111111,
              "#46039f"
             ],
             [
              0.2222222222222222,
              "#7201a8"
             ],
             [
              0.3333333333333333,
              "#9c179e"
             ],
             [
              0.4444444444444444,
              "#bd3786"
             ],
             [
              0.5555555555555556,
              "#d8576b"
             ],
             [
              0.6666666666666666,
              "#ed7953"
             ],
             [
              0.7777777777777778,
              "#fb9f3a"
             ],
             [
              0.8888888888888888,
              "#fdca26"
             ],
             [
              1,
              "#f0f921"
             ]
            ],
            "type": "histogram2d"
           }
          ],
          "histogram2dcontour": [
           {
            "colorbar": {
             "outlinewidth": 0,
             "ticks": ""
            },
            "colorscale": [
             [
              0,
              "#0d0887"
             ],
             [
              0.1111111111111111,
              "#46039f"
             ],
             [
              0.2222222222222222,
              "#7201a8"
             ],
             [
              0.3333333333333333,
              "#9c179e"
             ],
             [
              0.4444444444444444,
              "#bd3786"
             ],
             [
              0.5555555555555556,
              "#d8576b"
             ],
             [
              0.6666666666666666,
              "#ed7953"
             ],
             [
              0.7777777777777778,
              "#fb9f3a"
             ],
             [
              0.8888888888888888,
              "#fdca26"
             ],
             [
              1,
              "#f0f921"
             ]
            ],
            "type": "histogram2dcontour"
           }
          ],
          "mesh3d": [
           {
            "colorbar": {
             "outlinewidth": 0,
             "ticks": ""
            },
            "type": "mesh3d"
           }
          ],
          "parcoords": [
           {
            "line": {
             "colorbar": {
              "outlinewidth": 0,
              "ticks": ""
             }
            },
            "type": "parcoords"
           }
          ],
          "pie": [
           {
            "automargin": true,
            "type": "pie"
           }
          ],
          "scatter": [
           {
            "fillpattern": {
             "fillmode": "overlay",
             "size": 10,
             "solidity": 0.2
            },
            "type": "scatter"
           }
          ],
          "scatter3d": [
           {
            "line": {
             "colorbar": {
              "outlinewidth": 0,
              "ticks": ""
             }
            },
            "marker": {
             "colorbar": {
              "outlinewidth": 0,
              "ticks": ""
             }
            },
            "type": "scatter3d"
           }
          ],
          "scattercarpet": [
           {
            "marker": {
             "colorbar": {
              "outlinewidth": 0,
              "ticks": ""
             }
            },
            "type": "scattercarpet"
           }
          ],
          "scattergeo": [
           {
            "marker": {
             "colorbar": {
              "outlinewidth": 0,
              "ticks": ""
             }
            },
            "type": "scattergeo"
           }
          ],
          "scattergl": [
           {
            "marker": {
             "colorbar": {
              "outlinewidth": 0,
              "ticks": ""
             }
            },
            "type": "scattergl"
           }
          ],
          "scattermapbox": [
           {
            "marker": {
             "colorbar": {
              "outlinewidth": 0,
              "ticks": ""
             }
            },
            "type": "scattermapbox"
           }
          ],
          "scatterpolar": [
           {
            "marker": {
             "colorbar": {
              "outlinewidth": 0,
              "ticks": ""
             }
            },
            "type": "scatterpolar"
           }
          ],
          "scatterpolargl": [
           {
            "marker": {
             "colorbar": {
              "outlinewidth": 0,
              "ticks": ""
             }
            },
            "type": "scatterpolargl"
           }
          ],
          "scatterternary": [
           {
            "marker": {
             "colorbar": {
              "outlinewidth": 0,
              "ticks": ""
             }
            },
            "type": "scatterternary"
           }
          ],
          "surface": [
           {
            "colorbar": {
             "outlinewidth": 0,
             "ticks": ""
            },
            "colorscale": [
             [
              0,
              "#0d0887"
             ],
             [
              0.1111111111111111,
              "#46039f"
             ],
             [
              0.2222222222222222,
              "#7201a8"
             ],
             [
              0.3333333333333333,
              "#9c179e"
             ],
             [
              0.4444444444444444,
              "#bd3786"
             ],
             [
              0.5555555555555556,
              "#d8576b"
             ],
             [
              0.6666666666666666,
              "#ed7953"
             ],
             [
              0.7777777777777778,
              "#fb9f3a"
             ],
             [
              0.8888888888888888,
              "#fdca26"
             ],
             [
              1,
              "#f0f921"
             ]
            ],
            "type": "surface"
           }
          ],
          "table": [
           {
            "cells": {
             "fill": {
              "color": "#EBF0F8"
             },
             "line": {
              "color": "white"
             }
            },
            "header": {
             "fill": {
              "color": "#C8D4E3"
             },
             "line": {
              "color": "white"
             }
            },
            "type": "table"
           }
          ]
         },
         "layout": {
          "annotationdefaults": {
           "arrowcolor": "#2a3f5f",
           "arrowhead": 0,
           "arrowwidth": 1
          },
          "autotypenumbers": "strict",
          "coloraxis": {
           "colorbar": {
            "outlinewidth": 0,
            "ticks": ""
           }
          },
          "colorscale": {
           "diverging": [
            [
             0,
             "#8e0152"
            ],
            [
             0.1,
             "#c51b7d"
            ],
            [
             0.2,
             "#de77ae"
            ],
            [
             0.3,
             "#f1b6da"
            ],
            [
             0.4,
             "#fde0ef"
            ],
            [
             0.5,
             "#f7f7f7"
            ],
            [
             0.6,
             "#e6f5d0"
            ],
            [
             0.7,
             "#b8e186"
            ],
            [
             0.8,
             "#7fbc41"
            ],
            [
             0.9,
             "#4d9221"
            ],
            [
             1,
             "#276419"
            ]
           ],
           "sequential": [
            [
             0,
             "#0d0887"
            ],
            [
             0.1111111111111111,
             "#46039f"
            ],
            [
             0.2222222222222222,
             "#7201a8"
            ],
            [
             0.3333333333333333,
             "#9c179e"
            ],
            [
             0.4444444444444444,
             "#bd3786"
            ],
            [
             0.5555555555555556,
             "#d8576b"
            ],
            [
             0.6666666666666666,
             "#ed7953"
            ],
            [
             0.7777777777777778,
             "#fb9f3a"
            ],
            [
             0.8888888888888888,
             "#fdca26"
            ],
            [
             1,
             "#f0f921"
            ]
           ],
           "sequentialminus": [
            [
             0,
             "#0d0887"
            ],
            [
             0.1111111111111111,
             "#46039f"
            ],
            [
             0.2222222222222222,
             "#7201a8"
            ],
            [
             0.3333333333333333,
             "#9c179e"
            ],
            [
             0.4444444444444444,
             "#bd3786"
            ],
            [
             0.5555555555555556,
             "#d8576b"
            ],
            [
             0.6666666666666666,
             "#ed7953"
            ],
            [
             0.7777777777777778,
             "#fb9f3a"
            ],
            [
             0.8888888888888888,
             "#fdca26"
            ],
            [
             1,
             "#f0f921"
            ]
           ]
          },
          "colorway": [
           "#636efa",
           "#EF553B",
           "#00cc96",
           "#ab63fa",
           "#FFA15A",
           "#19d3f3",
           "#FF6692",
           "#B6E880",
           "#FF97FF",
           "#FECB52"
          ],
          "font": {
           "color": "#2a3f5f"
          },
          "geo": {
           "bgcolor": "white",
           "lakecolor": "white",
           "landcolor": "#E5ECF6",
           "showlakes": true,
           "showland": true,
           "subunitcolor": "white"
          },
          "hoverlabel": {
           "align": "left"
          },
          "hovermode": "closest",
          "mapbox": {
           "style": "light"
          },
          "paper_bgcolor": "white",
          "plot_bgcolor": "#E5ECF6",
          "polar": {
           "angularaxis": {
            "gridcolor": "white",
            "linecolor": "white",
            "ticks": ""
           },
           "bgcolor": "#E5ECF6",
           "radialaxis": {
            "gridcolor": "white",
            "linecolor": "white",
            "ticks": ""
           }
          },
          "scene": {
           "xaxis": {
            "backgroundcolor": "#E5ECF6",
            "gridcolor": "white",
            "gridwidth": 2,
            "linecolor": "white",
            "showbackground": true,
            "ticks": "",
            "zerolinecolor": "white"
           },
           "yaxis": {
            "backgroundcolor": "#E5ECF6",
            "gridcolor": "white",
            "gridwidth": 2,
            "linecolor": "white",
            "showbackground": true,
            "ticks": "",
            "zerolinecolor": "white"
           },
           "zaxis": {
            "backgroundcolor": "#E5ECF6",
            "gridcolor": "white",
            "gridwidth": 2,
            "linecolor": "white",
            "showbackground": true,
            "ticks": "",
            "zerolinecolor": "white"
           }
          },
          "shapedefaults": {
           "line": {
            "color": "#2a3f5f"
           }
          },
          "ternary": {
           "aaxis": {
            "gridcolor": "white",
            "linecolor": "white",
            "ticks": ""
           },
           "baxis": {
            "gridcolor": "white",
            "linecolor": "white",
            "ticks": ""
           },
           "bgcolor": "#E5ECF6",
           "caxis": {
            "gridcolor": "white",
            "linecolor": "white",
            "ticks": ""
           }
          },
          "title": {
           "x": 0.05
          },
          "xaxis": {
           "automargin": true,
           "gridcolor": "white",
           "linecolor": "white",
           "ticks": "",
           "title": {
            "standoff": 15
           },
           "zerolinecolor": "white",
           "zerolinewidth": 2
          },
          "yaxis": {
           "automargin": true,
           "gridcolor": "white",
           "linecolor": "white",
           "ticks": "",
           "title": {
            "standoff": 15
           },
           "zerolinecolor": "white",
           "zerolinewidth": 2
          }
         }
        },
        "title": {
         "font": {
          "size": 30
         },
         "text": "title here"
        },
        "uniformtext": {
         "minsize": 12,
         "mode": "hide"
        }
       }
      }
     },
     "metadata": {},
     "output_type": "display_data"
    }
   ],
   "source": [
    "import plotly\n",
    "import plotly.express as px\n",
    "import plotly.graph_objects as go\n",
    "import pandas as pd\n",
    "\n",
    "df = pd.DataFrame({\n",
    "    'feature1': ['a', 'b', 'c'],\n",
    "    'percentage': [50, 20, 30]\n",
    "})\n",
    "\n",
    "fig = px.pie(\n",
    "    df, \n",
    "    values='percentage', \n",
    "    names='feature1',\n",
    "    title='title here',\n",
    "    hole=0.4\n",
    ")\n",
    "margins = 10\n",
    "fig.update_layout(\n",
    "    title_font_size=30,\n",
    "    showlegend=False,\n",
    "    margin=dict(t=50, b=margins, l=margins, r=margins)\n",
    ")\n",
    "fig.update_traces(\n",
    "    textposition='inside',\n",
    "    textinfo='percent+label'\n",
    ")\n",
    "fig.update_layout(uniformtext_minsize=12, uniformtext_mode='hide')\n"
   ]
  },
  {
   "cell_type": "markdown",
   "id": "46ff7d8f",
   "metadata": {},
   "source": [
    "### Table\n",
    "\n",
    "Two types:\n",
    "- DataTable `dash.dash_table.DataTable`: https://dash.plotly.com/datatable\n",
    "- Bootstrap table `dbc.Table`: https://dash-bootstrap-components.opensource.faculty.ai/docs/components/table/\n",
    "\n",
    "\n"
   ]
  },
  {
   "cell_type": "markdown",
   "id": "1f951ab1",
   "metadata": {},
   "source": [
    "#### DataTable\n",
    "\n",
    "https://stackoverflow.com/questions/55269763/return-a-pandas-dataframe-as-a-data-table-from-a-callback-with-plotly-dash-for-p/55305812#55305812\n",
    "\n",
    "https://dash.plotly.com/datatable/reference\n",
    "\n",
    "https://stackoverflow.com/questions/71317120/case-insensitive-search-in-dash-data-table-column\n",
    "\n",
    "Interactivity: https://dash.plotly.com/datatable/interactivity\n",
    "\n",
    "Styling: \n",
    "- https://community.plotly.com/t/how-styling-headers-in-multi-headers-datatable/58581\n",
    "- https://dash.plotly.com/datatable/style\n",
    "\n",
    "Colors can be specified in different ways:\n",
    "- 'white', 'grey'\n",
    "- 'rgb(220, 220, 220)'\n",
    "- '#F8F5F5'\n",
    "\n",
    "```py\n",
    "    df_datatable = dash_table.DataTable(\n",
    "        data=df_filtered.to_dict('records'),\n",
    "        columns=[{'name': i, 'id': i} for i in (df_filtered.columns)],\n",
    "        style_data={\n",
    "            'whiteSpace': 'normal', \n",
    "            'height': 'auto',\n",
    "            \n",
    "        },\n",
    "        style_cell={\n",
    "            'textAlign': 'center',\n",
    "            'fontSize': 15, \n",
    "            'font-family': 'sans-serif',\n",
    "            'font-family': 'avenir'\n",
    "            'border': '1px solid black'\n",
    "        },\n",
    "        style_header={\n",
    "            'backgroundColor': 'grey',\n",
    "            'textAlign': 'center',\n",
    "            'color': 'white'\n",
    "        },\n",
    "        style_data_conditional=[\n",
    "            {\n",
    "                'if': {'row_index': 'odd'},\n",
    "                'backgroundColor': '#F8F5F5'\n",
    "            }\n",
    "        ],\n",
    "        page_size=10,\n",
    "        filter_action=\"native\",\n",
    "        filter_options={\"placeholder_text\": \"Filter...\"},\n",
    "        sort_action=\"native\",\n",
    "        ### Scroll table: \n",
    "        style_table={'height': '500px', 'overflowY': 'auto'}\n",
    "    )\n",
    "```\n",
    "\n",
    "\n"
   ]
  },
  {
   "cell_type": "markdown",
   "id": "531640ac",
   "metadata": {},
   "source": [
    "#### dbc.table\n",
    "\n",
    "```py\n",
    "dbc.Table.from_dataframe(\n",
    "    df,\n",
    "    striped=True,\n",
    "    bordered=True,\n",
    "    hover=True\n",
    ")\n",
    "```\n"
   ]
  },
  {
   "cell_type": "markdown",
   "id": "e171c6c8",
   "metadata": {},
   "source": [
    "#### button\n",
    "\n",
    "https://dash.plotly.com/dash-html-components/button\n",
    "\n",
    "```py\n",
    "app.layout = html.Div([\n",
    "    html.Button('Button 1', id='btn-1-ctx-example'),\n",
    "    html.Button('Button 2', id='btn-2-ctx-example'),\n",
    "    html.Button('Button 3', id='btn-3-ctx-example'),\n",
    "    html.Div(id='container-ctx-example')\n",
    "])\n",
    "\n",
    "@callback(Output('container-ctx-example','children'),\n",
    "              Input('btn-1-ctx-example', 'n_clicks'),\n",
    "              Input('btn-2-ctx-example', 'n_clicks'),\n",
    "              Input('btn-3-ctx-example', 'n_clicks'))\n",
    "def display(\n",
    "        btn1, \n",
    "        btn2, \n",
    "        btn3\n",
    "    ):\n",
    "    print(ctx.triggered_id)\n",
    "    button_clicked = ctx.triggered_id\n",
    "    return html.Div([\n",
    "        dcc.Markdown(\n",
    "            f'''You last clicked button with ID {button_clicked}\n",
    "            ''' if button_clicked else '''You haven't clicked any button yet''')\n",
    "    ])\n",
    "```"
   ]
  },
  {
   "cell_type": "markdown",
   "id": "000dd950",
   "metadata": {},
   "source": [
    "#### example\n",
    "\n",
    "```py\n",
    "@app.callback(\n",
    "    Output('table-messages', 'children'),\n",
    "    [\n",
    "        Input('dropdown1', 'value'),\n",
    "        Input('dropdown2', 'value'),\n",
    "        Input('rangeslider-years', 'value'),\n",
    "        Input('btn-clear-filters', 'n_clicks')\n",
    "    ]\n",
    ")\n",
    "def format_table(\n",
    "        dropdown1_value: list[str], \n",
    "        dropdown2_value: list[str],\n",
    "        my_range_slider: list[int],\n",
    "        button_click: str\n",
    "    ) -> dash.dash_table.DataTable:\n",
    "    \"\"\"\n",
    "    Given three inputs from the side filter on the right, \n",
    "    filter dataframe\n",
    "    and return a data table formatted in the DataTable format\n",
    "    to be shown in Plotly Dash\n",
    "    \"\"\"\n",
    "    button_clicked = ctx.triggered_id\n",
    "    if button_clicked == 'btn-clear-filters':\n",
    "        dropdown1_value, dropdown2_value, my_range_slider = [], [], [2015, 2024]\n",
    "    df_filtered = utils.filter_messages_dataframe(dropdown1_value, dropdown2_value, my_range_slider)\n",
    "    df_datatable = dash_table.DataTable(\n",
    "        data=df_filtered.to_dict('records'),\n",
    "        columns=[{'name': i, 'id': i} for i in (df_filtered.columns)],\n",
    "        style_data={\n",
    "            'whiteSpace': 'normal', \n",
    "            'height': 'auto',\n",
    "            \n",
    "        },\n",
    "        style_cell={\n",
    "            'textAlign': 'center', # 'left'\n",
    "            'font-family': 'Segoe UI'\n",
    "        },\n",
    "        style_header={\n",
    "            'backgroundColor': '#666666',\n",
    "            'textAlign': 'center',\n",
    "            'color': 'white'\n",
    "        },\n",
    "        style_table={\n",
    "            'height': '500px',\n",
    "            'overflowY': 'auto'\n",
    "        },\n",
    "        style_data_conditional=[\n",
    "            {\n",
    "                'if': {'row_index': 'odd'},\n",
    "                'backgroundColor': '#F8F5F5'\n",
    "            }\n",
    "        ],\n",
    "        page_size=10,\n",
    "        #\n",
    "        filter_action=\"native\",\n",
    "        filter_options={\n",
    "            \"case\": \"insensitive\",\n",
    "            \"placeholder_text\": \"Filter...\"\n",
    "        },\n",
    "        sort_action=\"native\",\n",
    "    )\n",
    "    return df_datatable\n",
    "```\n",
    "\n",
    "---\n",
    "\n",
    "Another example:\n",
    "\n",
    "```py\n",
    "@app.callback(\n",
    "    Output('table-messages-3', 'children'),\n",
    "    [\n",
    "        Input('dropdown1', 'value'),\n",
    "        Input('dropdown2', 'value'),\n",
    "        Input('rangeslider-years', 'value'),\n",
    "    ]\n",
    ")\n",
    "def format_table(\n",
    "        dropdown1_value: list[str], \n",
    "        dropdown2_value: list[str],\n",
    "        my_range_slider: list[int]\n",
    "    ) -> dash.dash_table.DataTable:\n",
    "    \"\"\"\n",
    "    Given three inputs from the side filter on the right, \n",
    "    filter dataframe\n",
    "    and return a data table formatted in the DataTable format\n",
    "    to be shown in Plotly Dash\n",
    "    \"\"\"\n",
    "    df_filtered = utils.filter_messages_dataframe(dropdown1_value, dropdown2_value, my_range_slider).reset_index()\n",
    "    df_filtered = df_filtered[['Message_text']]\n",
    "    text = f\"\"\"\n",
    "Quote1\\n>text here\\n\\nQuote2\\n>text also here\\n\\nQuote3\\n>text here, too\n",
    "\"\"\"\n",
    "    text = ''\n",
    "    for index, row in df_filtered.iterrows():\n",
    "        text += f\"Quote {int(index)+1}\"\n",
    "        text += \"\\n\"\n",
    "        text += f\"> {row['Message_text']}\"\n",
    "        text += \"\\n\\n\"\n",
    "    return text\n",
    "```"
   ]
  }
 ],
 "metadata": {
  "language_info": {
   "name": "python"
  }
 },
 "nbformat": 4,
 "nbformat_minor": 5
}
