{
 "cells": [
  {
   "attachments": {},
   "cell_type": "markdown",
   "metadata": {},
   "source": [
    "# Introduction\n",
    "\n",
    "Numpy is based on C++, so it's faster than Python"
   ]
  },
  {
   "cell_type": "code",
   "execution_count": 1,
   "metadata": {},
   "outputs": [
    {
     "data": {
      "text/plain": [
       "array([137.45401188, 195.07143064, 173.19939418, 159.86584842,\n",
       "       115.60186404, 115.59945203, 105.80836122, 186.61761458,\n",
       "       160.11150117, 170.80725778])"
      ]
     },
     "execution_count": 1,
     "metadata": {},
     "output_type": "execute_result"
    }
   ],
   "source": [
    "# numpy seed makes sure that you get the same randomness every time\n",
    "import numpy as np\n",
    "\n",
    "np.random.seed(42)\n",
    "\n",
    "\"\"\"\n",
    "The function below will always generate an array of random numbers, \n",
    "which nevertheless are the following every time:\n",
    "array([137.45401188, 195.07143064, 173.19939418, 159.86584842,\n",
    "       115.60186404, 115.59945203, 105.80836122, 186.61761458,\n",
    "       160.11150117, 170.80725778])\n",
    "\"\"\"\n",
    "np.random.uniform(100, 200, 10)"
   ]
  },
  {
   "attachments": {},
   "cell_type": "markdown",
   "metadata": {},
   "source": [
    "# Array\n",
    "\n",
    "If you have an array, but you need a list, you can make a convertion: `y = x.tolist()`\n",
    "\n",
    "```py\n",
    "### Get unique categories in the array\n",
    "np.unique(array)\n",
    "```\n",
    "\n",
    "\n",
    "\n",
    "\n",
    "\n"
   ]
  },
  {
   "cell_type": "markdown",
   "metadata": {},
   "source": [
    "## Vectorisation"
   ]
  },
  {
   "cell_type": "code",
   "execution_count": 62,
   "metadata": {},
   "outputs": [],
   "source": [
    "### Definitions of some vectors and scalars\n",
    "import numpy as np\n",
    "from timeit import default_timer as timer\n",
    "import copy\n",
    "\n",
    "sample_n = 1000000\n",
    "w = np.random.randint(10, 20, size=sample_n)\n",
    "b = 15\n",
    "x = np.random.randint(100, 150, size=sample_n)\n",
    "\n",
    "def format_time(time: float):\n",
    "    print(f\"Elapsed time: {time:.5f}\", \"\\n\")\n",
    "    return None\n"
   ]
  },
  {
   "cell_type": "code",
   "execution_count": 63,
   "metadata": {},
   "outputs": [
    {
     "name": "stdout",
     "output_type": "stream",
     "text": [
      "[ 6  5 -3 ...  5  3  1]\n",
      "Elapsed time: 1.98446 \n",
      "\n",
      "[ 6.9  5.  -3.  ...  5.3  3.6  1.3]\n",
      "Elapsed time: 0.00609 \n",
      "\n"
     ]
    }
   ],
   "source": [
    "\"\"\"\n",
    "Summation\n",
    "\"\"\";\n",
    "\n",
    "### Non-vectorised vector operation\n",
    "start = timer()\n",
    "w1 = copy.deepcopy(w)\n",
    "for i in range(len(w)):\n",
    "    w1[i] = w[i] - 0.1*x[i]\n",
    "stop = timer()\n",
    "print(w1)\n",
    "format_time(stop-start)\n",
    "\n",
    "### Vectorised vector operation\n",
    "start = timer()\n",
    "w1 = w - 0.1*x\n",
    "stop = timer()\n",
    "print(w1)\n",
    "format_time(stop-start)\n"
   ]
  },
  {
   "cell_type": "code",
   "execution_count": 64,
   "metadata": {},
   "outputs": [
    {
     "name": "stdout",
     "output_type": "stream",
     "text": [
      "1805642036\n",
      "Elapsed time: 0.31871 \n",
      "\n",
      "1805642036\n",
      "Elapsed time: 0.00067 \n",
      "\n"
     ]
    }
   ],
   "source": [
    "\"\"\"\n",
    "Dot product\n",
    "\"\"\";\n",
    "\n",
    "### Non-vectorised vector operation\n",
    "start = timer()\n",
    "f = 0\n",
    "for i in range(0, len(w)):\n",
    "    f += w[i] * x[i]\n",
    "stop = timer()\n",
    "print(f)\n",
    "format_time(stop-start)\n",
    "\n",
    "### Vectorised vector operation\n",
    "start = timer()\n",
    "f = np.dot(w, x)\n",
    "stop = timer()\n",
    "print(f)\n",
    "format_time(stop-start)"
   ]
  },
  {
   "cell_type": "markdown",
   "metadata": {},
   "source": [
    "## Data types"
   ]
  },
  {
   "cell_type": "code",
   "execution_count": 74,
   "metadata": {},
   "outputs": [
    {
     "name": "stdout",
     "output_type": "stream",
     "text": [
      "int32\n",
      "float64\n"
     ]
    }
   ],
   "source": [
    "a = np.array([5, 4, 3, 2])\n",
    "print(a.dtype)\n",
    "\n",
    "a = np.array([5., 4, 3, 2])\n",
    "print(a.dtype)\n"
   ]
  },
  {
   "attachments": {},
   "cell_type": "markdown",
   "metadata": {},
   "source": [
    "## Create and view"
   ]
  },
  {
   "cell_type": "code",
   "execution_count": 72,
   "metadata": {},
   "outputs": [
    {
     "name": "stdout",
     "output_type": "stream",
     "text": [
      "[1 2 3 4]\n",
      "4\n",
      "int32\n"
     ]
    }
   ],
   "source": [
    "import numpy as np\n",
    "\n",
    "### Create numpy array from a python list\n",
    "list1 = [1,2,3]\n",
    "array1 = np.array(list1)\n",
    "### Create numpy array from python nested list\n",
    "list2 = [[1,2,3],[4,5,6]]\n",
    "np.array(list2)\n",
    "\n",
    "### Create arrays of different sizes\n",
    "vector1 = np.array([1, 2, 3, 4], dtype=int)\n",
    "array2d_1 = np.array([[1, 2, 3], [3, 4, 5]])\n",
    "array2d_2 = np.array([[1, 2, 3], [3, 4, 5]])\n",
    "array3d = np.array([\n",
    "\t[\n",
    "\t\t[1, 2, 3],\n",
    "\t\t[4, 5, 6],\n",
    "\t], \n",
    "\t[\n",
    "\t\t[7, 8, 9],\n",
    "\t\t[10, 11, 12],\n",
    "\t]\n",
    "])\n",
    "np.array([5,4,3,2]) # int\n",
    "np.array([5., 4,3,2]) # float\n",
    "\n",
    "print(vector1)\n",
    "print(vector1.size)\n",
    "print(vector1.dtype)\n"
   ]
  },
  {
   "cell_type": "code",
   "execution_count": 2,
   "metadata": {},
   "outputs": [
    {
     "data": {
      "text/plain": [
       "3"
      ]
     },
     "execution_count": 2,
     "metadata": {},
     "output_type": "execute_result"
    }
   ],
   "source": [
    "import numpy as np\n",
    "\n",
    "a = np.array([\n",
    "    [1,2,3],\n",
    "    [4,5,6]\n",
    "])\n",
    "\n",
    "a.shape[-1]"
   ]
  },
  {
   "cell_type": "code",
   "execution_count": 85,
   "metadata": {},
   "outputs": [
    {
     "ename": "AttributeError",
     "evalue": "module 'numpy' has no attribute 'int'.\n`np.int` was a deprecated alias for the builtin `int`. To avoid this error in existing code, use `int` by itself. Doing this will not modify any behavior and is safe. When replacing `np.int`, you may wish to use e.g. `np.int64` or `np.int32` to specify the precision. If you wish to review your current use, check the release note link for additional information.\nThe aliases was originally deprecated in NumPy 1.20; for more details and guidance see the original release note at:\n    https://numpy.org/devdocs/release/1.20.0-notes.html#deprecations",
     "output_type": "error",
     "traceback": [
      "\u001b[1;31m---------------------------------------------------------------------------\u001b[0m",
      "\u001b[1;31mAttributeError\u001b[0m                            Traceback (most recent call last)",
      "Cell \u001b[1;32mIn[85], line 51\u001b[0m\n\u001b[0;32m     48\u001b[0m \u001b[38;5;66;03m# Zeros\u001b[39;00m\n\u001b[0;32m     49\u001b[0m \u001b[38;5;66;03m## 1D all zeros (array)\u001b[39;00m\n\u001b[0;32m     50\u001b[0m np\u001b[38;5;241m.\u001b[39mzeros(\u001b[38;5;241m5\u001b[39m) \u001b[38;5;66;03m### [0. 0. 0. 0. 0.]\u001b[39;00m\n\u001b[1;32m---> 51\u001b[0m np\u001b[38;5;241m.\u001b[39mzeros(\u001b[38;5;241m5\u001b[39m, dtype\u001b[38;5;241m=\u001b[39m\u001b[43mnp\u001b[49m\u001b[38;5;241;43m.\u001b[39;49m\u001b[43mint\u001b[49m)\n\u001b[0;32m     52\u001b[0m np\n\u001b[0;32m     53\u001b[0m \u001b[38;5;66;03m## 2D all zeros (matrix)\u001b[39;00m\n",
      "File \u001b[1;32mc:\\Users\\evgen\\.conda\\envs\\data-science\\lib\\site-packages\\numpy\\__init__.py:313\u001b[0m, in \u001b[0;36m__getattr__\u001b[1;34m(attr)\u001b[0m\n\u001b[0;32m    308\u001b[0m     warnings\u001b[38;5;241m.\u001b[39mwarn(\n\u001b[0;32m    309\u001b[0m         \u001b[38;5;124mf\u001b[39m\u001b[38;5;124m\"\u001b[39m\u001b[38;5;124mIn the future `np.\u001b[39m\u001b[38;5;132;01m{\u001b[39;00mattr\u001b[38;5;132;01m}\u001b[39;00m\u001b[38;5;124m` will be defined as the \u001b[39m\u001b[38;5;124m\"\u001b[39m\n\u001b[0;32m    310\u001b[0m         \u001b[38;5;124m\"\u001b[39m\u001b[38;5;124mcorresponding NumPy scalar.\u001b[39m\u001b[38;5;124m\"\u001b[39m, \u001b[38;5;167;01mFutureWarning\u001b[39;00m, stacklevel\u001b[38;5;241m=\u001b[39m\u001b[38;5;241m2\u001b[39m)\n\u001b[0;32m    312\u001b[0m \u001b[38;5;28;01mif\u001b[39;00m attr \u001b[38;5;129;01min\u001b[39;00m __former_attrs__:\n\u001b[1;32m--> 313\u001b[0m     \u001b[38;5;28;01mraise\u001b[39;00m \u001b[38;5;167;01mAttributeError\u001b[39;00m(__former_attrs__[attr])\n\u001b[0;32m    315\u001b[0m \u001b[38;5;28;01mif\u001b[39;00m attr \u001b[38;5;241m==\u001b[39m \u001b[38;5;124m'\u001b[39m\u001b[38;5;124mtesting\u001b[39m\u001b[38;5;124m'\u001b[39m:\n\u001b[0;32m    316\u001b[0m     \u001b[38;5;28;01mimport\u001b[39;00m \u001b[38;5;21;01mnumpy\u001b[39;00m\u001b[38;5;21;01m.\u001b[39;00m\u001b[38;5;21;01mtesting\u001b[39;00m \u001b[38;5;28;01mas\u001b[39;00m \u001b[38;5;21;01mtesting\u001b[39;00m\n",
      "\u001b[1;31mAttributeError\u001b[0m: module 'numpy' has no attribute 'int'.\n`np.int` was a deprecated alias for the builtin `int`. To avoid this error in existing code, use `int` by itself. Doing this will not modify any behavior and is safe. When replacing `np.int`, you may wish to use e.g. `np.int64` or `np.int32` to specify the precision. If you wish to review your current use, check the release note link for additional information.\nThe aliases was originally deprecated in NumPy 1.20; for more details and guidance see the original release note at:\n    https://numpy.org/devdocs/release/1.20.0-notes.html#deprecations"
     ]
    }
   ],
   "source": [
    "\"\"\"\n",
    "Useful Numpy functions for creating arrays: \n",
    "arange, empty, zeros, linspace, full, eye\n",
    "\"\"\"\n",
    "\n",
    "# Array from 0 to 9\n",
    "np.arange(10)\n",
    "# Array from 5 to 9\n",
    "np.arange(5, 10)\n",
    "# Array from 0 to 0.9, with step 0.1\n",
    "np.arange(0, 1, 0.1)\n",
    "# In descending order\n",
    "np.arange(1, 11)[::-1]\n",
    "\n",
    "\n",
    "\n",
    "# Empty\n",
    "np.empty(5)\n",
    "np.empty((2,2))\n",
    "\n",
    "# Zeros\n",
    "## 1D all zeros (array)\n",
    "np.zeros(5) ### [0. 0. 0. 0. 0.]\n",
    "np.zeros(5, dtype=np.int)\n",
    "np\n",
    "## 2D all zeros (matrix)\n",
    "np.zeros((3, 2))\n",
    "np.zeros((3, 2), dtype=np.int)\n",
    "## 3D all zeros\n",
    "np.zeros((2, 3, 4))\n",
    "\n",
    "# Ones\n",
    "## 2D all ones\n",
    "np.ones((3, 2))\n",
    "np.ones((3, 3), dtype=int)\n",
    "\n",
    "# Linspace\n",
    "# return N=100 evenly-spaced numbers from 0 to 30\n",
    "np.linspace(0, 30, 100)\n",
    "\n",
    "# Create a matrix of 2rows-3columns with value 42\n",
    "np.full([2, 3], 42)\n",
    "\n",
    "# Create an identity matrix\n",
    "np.eye(3)\n",
    "np.identity(3, dtype=int)"
   ]
  },
  {
   "cell_type": "code",
   "execution_count": 11,
   "metadata": {},
   "outputs": [
    {
     "name": "stdout",
     "output_type": "stream",
     "text": [
      "2034164784496 2034164784592\n"
     ]
    },
    {
     "name": "stderr",
     "output_type": "stream",
     "text": [
      "C:\\Users\\Data Science\\AppData\\Local\\Temp\\ipykernel_36536\\538342964.py:21: DeprecationWarning: `np.float` is a deprecated alias for the builtin `float`. To silence this warning, use `float` by itself. Doing this will not modify any behavior and is safe. If you specifically wanted the numpy scalar type, use `np.float64` here.\n",
      "Deprecated in NumPy 1.20; for more details and guidance: https://numpy.org/devdocs/release/1.20.0-notes.html#deprecations\n",
      "  Y = np.array(X, np.float)\n"
     ]
    }
   ],
   "source": [
    "\"\"\"\n",
    "Copy matrices\n",
    "\"\"\"\n",
    "import numpy as np\n",
    "\n",
    "X = np.arange(4, dtype=int)\n",
    "\n",
    "# Create a copy with a different ID\n",
    "Y = np.copy(X); print(id(X), id(Y))\n",
    "\n",
    "# Create a copy array with the same dimensions, but filled with 1\n",
    "Y = np.ones_like(X)\n",
    "\n",
    "# Create a copy matrix with same dimensions, but filled with 0\n",
    "Y = np.zeros_like(X)\n",
    "\n",
    "# Create a copy matrix with same dimensions, but filled with fill_value\n",
    "Y = np.full_like(X, fill_value=7)\n",
    "\n",
    "# Convert all values into float\n",
    "Y = np.array(X, np.float)"
   ]
  },
  {
   "cell_type": "code",
   "execution_count": 12,
   "metadata": {},
   "outputs": [
    {
     "data": {
      "text/plain": [
       "array([ 1,  2,  3,  4,  5,  6,  7,  8,  9, 10, 11, 12])"
      ]
     },
     "execution_count": 12,
     "metadata": {},
     "output_type": "execute_result"
    }
   ],
   "source": [
    "### Get information\n",
    "array3d.shape\n",
    "array3d.dtype\n",
    "\n",
    "### Show unique categories\n",
    "np.unique(array3d)\n"
   ]
  },
  {
   "cell_type": "code",
   "execution_count": 12,
   "metadata": {},
   "outputs": [
    {
     "name": "stderr",
     "output_type": "stream",
     "text": [
      "C:\\Users\\evgen\\AppData\\Local\\Temp\\ipykernel_24568\\1196690164.py:5: DeprecationWarning: The truth value of an empty array is ambiguous. Returning False, but in future this will result in an error. Use `array.size > 0` to check that an array is not empty.\n",
      "  not a\n"
     ]
    },
    {
     "data": {
      "text/plain": [
       "True"
      ]
     },
     "execution_count": 12,
     "metadata": {},
     "output_type": "execute_result"
    }
   ],
   "source": [
    "import numpy as np\n",
    "\n",
    "a = np.array([])\n",
    "\n",
    "not a"
   ]
  },
  {
   "cell_type": "markdown",
   "metadata": {},
   "source": [
    "### Random"
   ]
  },
  {
   "cell_type": "code",
   "execution_count": 2,
   "metadata": {},
   "outputs": [
    {
     "data": {
      "text/plain": [
       "array([9.10738981, 8.45959112, 6.94334797, 6.89130124, 9.0736067 ])"
      ]
     },
     "execution_count": 2,
     "metadata": {},
     "output_type": "execute_result"
    }
   ],
   "source": [
    "import numpy as np\n",
    "\n",
    "# Random 1D array, size = N items\n",
    "np.random.random(size=2)\n",
    "# Create 3x3x3 random array\n",
    "np.random.random(size=(3,3,3))\n",
    "# \n",
    "np.random.random_sample(4)\n",
    "\n",
    "# Random 1D array, normal distribution\n",
    "np.random.normal(size=2)\n",
    "\n",
    "# RANDOM floats from uniform distribution, range [0,1)\n",
    "# Random 1D vector with 5 values\n",
    "np.random.rand(5)\n",
    "# Random 2D vector of shape 4*4\n",
    "np.random.rand(4, 4)\n",
    "\n",
    "# Random array with int values btw 1-10\n",
    "np.random.randint(10, size=3)\n",
    "# Random array with int values btw 10-29\n",
    "np.random.randint(10, 20, size=3)\n",
    "\n",
    "# RANDOM floats from normal distribution\n",
    "np.random.randn(4, 4)\n",
    "\n",
    "# RANDOM floats btw two values\n",
    "np.random.uniform(5, 10, 5)\n"
   ]
  },
  {
   "cell_type": "code",
   "execution_count": 1,
   "metadata": {},
   "outputs": [
    {
     "name": "stdout",
     "output_type": "stream",
     "text": [
      "(100, 2)\n"
     ]
    },
    {
     "data": {
      "text/plain": [
       "array([[13.24513703, 17.38731453],\n",
       "       [12.24304408, 18.49489073],\n",
       "       [16.41492077, 18.36362203],\n",
       "       [16.35056405, 10.3458215 ],\n",
       "       [18.43384073, 14.72364639]])"
      ]
     },
     "execution_count": 1,
     "metadata": {},
     "output_type": "execute_result"
    }
   ],
   "source": [
    "import numpy as np\n",
    "\n",
    "X_train = np.random.uniform(10, 20, 200).reshape(100,2)\n",
    "print(X_train.shape)\n",
    "\n",
    "X_train[:5]\n"
   ]
  },
  {
   "attachments": {},
   "cell_type": "markdown",
   "metadata": {},
   "source": [
    "## Operations"
   ]
  },
  {
   "cell_type": "code",
   "execution_count": 84,
   "metadata": {},
   "outputs": [
    {
     "name": "stdout",
     "output_type": "stream",
     "text": [
      "[ 0 -1 -2 -3]\n",
      "[3 5 7 9]\n",
      "[ 0 10 20 30]\n",
      "[0 1 4 9]\n",
      "4\n",
      "[31 41 51 61]\n",
      "\n"
     ]
    },
    {
     "data": {
      "text/plain": [
       "[9, 25, 49, 81]"
      ]
     },
     "execution_count": 84,
     "metadata": {},
     "output_type": "execute_result"
    }
   ],
   "source": [
    "import numpy as np\n",
    "\n",
    "a = np.array([0, 1, 2, 3])\n",
    "b = np.array([3, 4, 5, 6])\n",
    "\n",
    "print( -a )\n",
    "print( a + b )\n",
    "print( a *10 )\n",
    "print( a**2 )\n",
    "print( len(a) )\n",
    "print( b*10 + 1 )\n",
    "print()\n",
    "\n",
    "\n",
    "[i**2 for i in a+b]"
   ]
  },
  {
   "cell_type": "code",
   "execution_count": 8,
   "metadata": {},
   "outputs": [
    {
     "name": "stdout",
     "output_type": "stream",
     "text": [
      "[0 0 0 1 1] int32 \n",
      "\n",
      "[0. 0. 0. 1. 1.] float64 \n",
      "\n",
      "[False False False  True  True] bool \n",
      "\n"
     ]
    }
   ],
   "source": [
    "\"\"\"\n",
    "Change datatype of array\n",
    "\"\"\"\n",
    "\n",
    "import numpy as np\n",
    "\n",
    "\n",
    "arr1 = np.array([0,0,0,1,1])\n",
    "print(arr1, arr1.dtype, '\\n')\n",
    "\n",
    "arr2 = arr1.astype('float64')\n",
    "print(arr2, arr2.dtype, '\\n')\n",
    "\n",
    "arr3 = arr1.astype('bool')\n",
    "print(arr3, arr3.dtype, '\\n')"
   ]
  },
  {
   "cell_type": "code",
   "execution_count": 16,
   "metadata": {},
   "outputs": [
    {
     "name": "stdout",
     "output_type": "stream",
     "text": [
      "[[1 2 3]\n",
      " [4 5 6]]\n",
      "all input arrays must have the same shape\n"
     ]
    }
   ],
   "source": [
    "import numpy as np\n",
    "\n",
    "a = np.array([1,2,3])\n",
    "b = np.array([4,5,6])\n",
    "c = np.array([7,8,9])\n",
    "\n",
    "ab = np.stack([a,b],axis=0)\n",
    "print(ab)\n",
    "\n",
    "try:\n",
    "    abc = np.stack([ab, c], axis=0)\n",
    "except Exception as e:\n",
    "    print(e)"
   ]
  },
  {
   "cell_type": "code",
   "execution_count": 14,
   "metadata": {},
   "outputs": [
    {
     "name": "stdout",
     "output_type": "stream",
     "text": [
      "(2, 2, 4)\n",
      "(5, 9, 15)\n",
      "[[[0 0 0 0 0 0 0 0 0 0 0 0 0 0 0]\n",
      "  [0 0 0 0 0 0 0 0 0 0 0 0 0 0 0]\n",
      "  [0 0 0 0 0 0 0 0 0 0 0 0 0 0 0]\n",
      "  [0 0 0 0 0 0 0 0 0 0 0 0 0 0 0]\n",
      "  [0 0 0 0 0 0 0 0 0 0 0 0 0 0 0]\n",
      "  [0 0 0 0 0 0 0 0 0 0 0 0 0 0 0]\n",
      "  [0 0 0 0 0 0 0 0 0 0 0 0 0 0 0]\n",
      "  [0 0 0 0 0 0 0 0 0 0 0 0 0 0 0]\n",
      "  [0 0 0 0 0 0 0 0 0 0 0 0 0 0 0]]\n",
      "\n",
      " [[0 0 0 0 0 0 0 0 0 0 0 0 0 0 0]\n",
      "  [0 0 0 0 0 0 0 0 0 0 0 0 0 0 0]\n",
      "  [0 0 0 0 0 0 0 0 0 0 0 0 0 0 0]\n",
      "  [0 0 0 0 0 1 1 1 1 0 0 0 0 0 0]\n",
      "  [0 0 0 0 0 1 1 1 1 0 0 0 0 0 0]\n",
      "  [0 0 0 0 0 0 0 0 0 0 0 0 0 0 0]\n",
      "  [0 0 0 0 0 0 0 0 0 0 0 0 0 0 0]\n",
      "  [0 0 0 0 0 0 0 0 0 0 0 0 0 0 0]\n",
      "  [0 0 0 0 0 0 0 0 0 0 0 0 0 0 0]]\n",
      "\n",
      " [[0 0 0 0 0 0 0 0 0 0 0 0 0 0 0]\n",
      "  [0 0 0 0 0 0 0 0 0 0 0 0 0 0 0]\n",
      "  [0 0 0 0 0 0 0 0 0 0 0 0 0 0 0]\n",
      "  [0 0 0 0 0 1 1 1 1 0 0 0 0 0 0]\n",
      "  [0 0 0 0 0 1 1 1 1 0 0 0 0 0 0]\n",
      "  [0 0 0 0 0 0 0 0 0 0 0 0 0 0 0]\n",
      "  [0 0 0 0 0 0 0 0 0 0 0 0 0 0 0]\n",
      "  [0 0 0 0 0 0 0 0 0 0 0 0 0 0 0]\n",
      "  [0 0 0 0 0 0 0 0 0 0 0 0 0 0 0]]\n",
      "\n",
      " [[0 0 0 0 0 0 0 0 0 0 0 0 0 0 0]\n",
      "  [0 0 0 0 0 0 0 0 0 0 0 0 0 0 0]\n",
      "  [0 0 0 0 0 0 0 0 0 0 0 0 0 0 0]\n",
      "  [0 0 0 0 0 0 0 0 0 0 0 0 0 0 0]\n",
      "  [0 0 0 0 0 0 0 0 0 0 0 0 0 0 0]\n",
      "  [0 0 0 0 0 0 0 0 0 0 0 0 0 0 0]\n",
      "  [0 0 0 0 0 0 0 0 0 0 0 0 0 0 0]\n",
      "  [0 0 0 0 0 0 0 0 0 0 0 0 0 0 0]\n",
      "  [0 0 0 0 0 0 0 0 0 0 0 0 0 0 0]]\n",
      "\n",
      " [[0 0 0 0 0 0 0 0 0 0 0 0 0 0 0]\n",
      "  [0 0 0 0 0 0 0 0 0 0 0 0 0 0 0]\n",
      "  [0 0 0 0 0 0 0 0 0 0 0 0 0 0 0]\n",
      "  [0 0 0 0 0 0 0 0 0 0 0 0 0 0 0]\n",
      "  [0 0 0 0 0 0 0 0 0 0 0 0 0 0 0]\n",
      "  [0 0 0 0 0 0 0 0 0 0 0 0 0 0 0]\n",
      "  [0 0 0 0 0 0 0 0 0 0 0 0 0 0 0]\n",
      "  [0 0 0 0 0 0 0 0 0 0 0 0 0 0 0]\n",
      "  [0 0 0 0 0 0 0 0 0 0 0 0 0 0 0]]]\n"
     ]
    }
   ],
   "source": [
    "import numpy as np\n",
    "\n",
    "a1 = np.array([\n",
    "    [\n",
    "        [1,1,1,1],\n",
    "        [1,1,1,1]\n",
    "    ],\n",
    "    [\n",
    "        [1,1,1,1],\n",
    "        [1,1,1,1]\n",
    "    ]\n",
    "])\n",
    "print(a1.shape)\n",
    "\n",
    "a2 = np.pad( a1, ((1,2), (3,4), (5,6)), 'constant', constant_values=[0] )\n",
    "print(a2.shape)\n",
    "print(a2)"
   ]
  },
  {
   "cell_type": "code",
   "execution_count": 26,
   "metadata": {
    "tags": []
   },
   "outputs": [
    {
     "name": "stdout",
     "output_type": "stream",
     "text": [
      "[2 4 6]\n",
      "[[ 2  4  6]\n",
      " [ 8 10 12]]\n"
     ]
    },
    {
     "data": {
      "text/plain": [
       "array([[[5., 5., 5., 5., 5.],\n",
       "        [5., 5., 5., 5., 5.],\n",
       "        [5., 5., 5., 5., 5.]],\n",
       "\n",
       "       [[5., 5., 5., 5., 5.],\n",
       "        [5., 5., 5., 5., 5.],\n",
       "        [5., 5., 5., 5., 5.]]])"
      ]
     },
     "execution_count": 26,
     "metadata": {},
     "output_type": "execute_result"
    }
   ],
   "source": [
    "### Sum two arrays\n",
    "import numpy as np\n",
    "\n",
    "a1 = np.array([1,2,3])\n",
    "a2 = np.array([1,2,3])\n",
    "print(a1 + a2)\n",
    "\n",
    "a1 = np.array([[1,2,3],[4,5,6]])\n",
    "a2 = np.array([[1,2,3],[4,5,6]])\n",
    "print(a1 + a2)\n",
    "\n",
    "a1 = np.array([\n",
    "    [\n",
    "        [1,1,1,1,1],\n",
    "        [1,1,1,1,1],\n",
    "        [1,1,1,1,1]\n",
    "    ],\n",
    "    [\n",
    "        [1,1,1,1,1],\n",
    "        [1,1,1,1,1],\n",
    "        [1,1,1,1,1]\n",
    "    ]\n",
    "])\n",
    "\n",
    "a2 = np.zeros((2,3,5))\n",
    "\n",
    "for i in [a1, a1, a1, a1, a1]:\n",
    "    a2 = np.add(a2, i)\n",
    "\n",
    "a2"
   ]
  },
  {
   "cell_type": "code",
   "execution_count": 3,
   "metadata": {},
   "outputs": [
    {
     "name": "stdout",
     "output_type": "stream",
     "text": [
      "(5, 3, 7)\n",
      "(3, 7)\n",
      "(5, 7)\n",
      "(5, 3)\n"
     ]
    }
   ],
   "source": [
    "import numpy as np\n",
    "\n",
    "a = np.zeros((5,3,7))\n",
    "print(a.shape)\n",
    "\n",
    "a1 = np.sum(a, axis=0)\n",
    "print(a1.shape)\n",
    "\n",
    "a1 = np.sum(a, axis=1)\n",
    "print(a1.shape)\n",
    "\n",
    "a1 = np.sum(a, axis=2)\n",
    "print(a1.shape)"
   ]
  },
  {
   "attachments": {},
   "cell_type": "markdown",
   "metadata": {},
   "source": [
    "### Reshape\n",
    "\n",
    "```py\n",
    "a = np.arange(10)\n",
    "b = a.reshape(2,5)\n",
    "### or\n",
    "a = np.arange(10).reshape(2,5)\n",
    "```\n"
   ]
  },
  {
   "cell_type": "code",
   "execution_count": 4,
   "metadata": {},
   "outputs": [
    {
     "data": {
      "text/plain": [
       "array([1, 2, 3])"
      ]
     },
     "metadata": {},
     "output_type": "display_data"
    },
    {
     "data": {
      "text/plain": [
       "array([[1],\n",
       "       [2],\n",
       "       [3]])"
      ]
     },
     "metadata": {},
     "output_type": "display_data"
    },
    {
     "data": {
      "text/plain": [
       "array([1, 2, 3])"
      ]
     },
     "metadata": {},
     "output_type": "display_data"
    }
   ],
   "source": [
    "import numpy as np\n",
    "\n",
    "a1 = np.array([1, 2, 3])\n",
    "display(a1)\n",
    "\n",
    "a2 = a1.reshape(-1, 1)\n",
    "display(a2)\n",
    "\n",
    "a3 = a2.reshape(-1)\n",
    "display(a3)"
   ]
  },
  {
   "cell_type": "code",
   "execution_count": 2,
   "metadata": {},
   "outputs": [
    {
     "data": {
      "text/plain": [
       "array([[0, 1],\n",
       "       [2, 3],\n",
       "       [4, 5],\n",
       "       [6, 7],\n",
       "       [8, 9]])"
      ]
     },
     "execution_count": 2,
     "metadata": {},
     "output_type": "execute_result"
    }
   ],
   "source": [
    "import numpy as np\n",
    "\n",
    "### The -1 argument tells the routine to compute the number of rows \n",
    "### given the size of the array and the number of columns.\n",
    "np.arange(10).reshape(-1, 2)\n"
   ]
  },
  {
   "cell_type": "code",
   "execution_count": 22,
   "metadata": {},
   "outputs": [
    {
     "name": "stdout",
     "output_type": "stream",
     "text": [
      "(9,)\n",
      "[0. 0. 0. 0. 0. 0. 0. 0. 0.]\n",
      "(3, 3)\n",
      "[[0. 0. 0.]\n",
      " [0. 0. 0.]\n",
      " [0. 0. 0.]]\n"
     ]
    }
   ],
   "source": [
    "import numpy as np\n",
    "\n",
    "### Reshape - flatten\n",
    "a = np.zeros(9)\n",
    "print(a.shape)\n",
    "print(a)\n",
    "\n",
    "b = a.reshape((3,3))\n",
    "print(b.shape)\n",
    "print(b)"
   ]
  },
  {
   "cell_type": "code",
   "execution_count": 24,
   "metadata": {},
   "outputs": [
    {
     "name": "stdout",
     "output_type": "stream",
     "text": [
      "(3, 3)\n",
      "[[0. 0. 0.]\n",
      " [0. 0. 0.]\n",
      " [0. 0. 0.]]\n",
      "(9,)\n",
      "[0. 0. 0. 0. 0. 0. 0. 0. 0.]\n"
     ]
    }
   ],
   "source": [
    "### Reshape - increase dimensionality\n",
    "a = np.zeros((3,3))\n",
    "print(a.shape)\n",
    "print(a)\n",
    "\n",
    "b = a.reshape(9)\n",
    "print(b.shape)\n",
    "print(b)"
   ]
  },
  {
   "cell_type": "code",
   "execution_count": 17,
   "metadata": {},
   "outputs": [
    {
     "name": "stdout",
     "output_type": "stream",
     "text": [
      "(10,)\n",
      "[0 1 2 3 4 5 6 7 8 9]\n",
      "(2, 5)\n",
      "[[0 1 2 3 4]\n",
      " [5 6 7 8 9]]\n"
     ]
    }
   ],
   "source": [
    "### Reshape 1D array into set dimensions\n",
    "\n",
    "a = np.arange(10)\n",
    "print(a.shape)\n",
    "print(a)\n",
    "\n",
    "b = a.reshape(2,5)\n",
    "print(b.shape)\n",
    "print(b)"
   ]
  },
  {
   "cell_type": "code",
   "execution_count": 18,
   "metadata": {},
   "outputs": [
    {
     "name": "stdout",
     "output_type": "stream",
     "text": [
      "(9,)\n",
      "[0 1 2 3 4 5 6 7 8]\n",
      "(3, 3)\n",
      "[[0 1 2]\n",
      " [3 4 5]\n",
      " [6 7 8]]\n"
     ]
    }
   ],
   "source": [
    "### Create a 3x3 numpy matrix filled with values 0-8\n",
    "\n",
    "a = np.arange(0,9)\n",
    "print(a.shape)\n",
    "print(a)\n",
    "\n",
    "b = a.reshape(3,3)\n",
    "print(b.shape)\n",
    "print(b)\n"
   ]
  },
  {
   "cell_type": "code",
   "execution_count": 6,
   "metadata": {},
   "outputs": [
    {
     "name": "stdout",
     "output_type": "stream",
     "text": [
      "(10,)\n",
      "[0.         0.33333333 0.66666667 1.         1.33333333 1.66666667\n",
      " 2.         2.33333333 2.66666667 3.        ]\n",
      "--------------------------------------------------\n",
      "(10, 1)\n",
      "[[0.        ]\n",
      " [0.33333333]\n",
      " [0.66666667]\n",
      " [1.        ]\n",
      " [1.33333333]\n",
      " [1.66666667]\n",
      " [2.        ]\n",
      " [2.33333333]\n",
      " [2.66666667]\n",
      " [3.        ]]\n"
     ]
    }
   ],
   "source": [
    "### Put random labels into a ML-like shape\n",
    "import numpy as np\n",
    "\n",
    "a = np.linspace(0,3,10)\n",
    "print(a.shape)\n",
    "print(a)\n",
    "print('-'*50)\n",
    "\n",
    "b = a.reshape(-1, 1)\n",
    "print(b.shape)\n",
    "print(b)"
   ]
  },
  {
   "cell_type": "code",
   "execution_count": 19,
   "metadata": {},
   "outputs": [
    {
     "name": "stdout",
     "output_type": "stream",
     "text": [
      "(3, 3)\n",
      "[[10 15 20]\n",
      " [25 30 35]\n",
      " [40 45 50]]\n",
      "(9,)\n",
      "[10 15 20 25 30 35 40 45 50]\n"
     ]
    }
   ],
   "source": [
    "### Flatten a 3D matrix into a 1D array\n",
    "a = np.array([[10,15,20],[25,30,35],[40,45,50]])\n",
    "print(a.shape)\n",
    "print(a)\n",
    "\n",
    "b = a.reshape(-1)\n",
    "print(b.shape)\n",
    "print(b)"
   ]
  },
  {
   "cell_type": "code",
   "execution_count": 7,
   "metadata": {},
   "outputs": [
    {
     "name": "stdout",
     "output_type": "stream",
     "text": [
      "(100, 28, 28)\n",
      "(100, 28, 28, 1)\n"
     ]
    }
   ],
   "source": [
    "import numpy as np\n",
    "\n",
    "a = np.zeros((100, 28,28))\n",
    "print(a.shape)\n",
    "# print(a)\n",
    "\n",
    "b = a.reshape(-1,28,28,1)\n",
    "print(b.shape)\n",
    "# print(b)"
   ]
  },
  {
   "attachments": {},
   "cell_type": "markdown",
   "metadata": {},
   "source": [
    "### Append"
   ]
  },
  {
   "cell_type": "code",
   "execution_count": 10,
   "metadata": {},
   "outputs": [
    {
     "name": "stdout",
     "output_type": "stream",
     "text": [
      "[1. 2. 3. 4. 5. 6.]\n",
      "[[ -2 -20]\n",
      " [ -1 -10]\n",
      " [  0   0]\n",
      " [  1  10]]\n"
     ]
    }
   ],
   "source": [
    "# Appending to an array\n",
    "\n",
    "## 1. If you are working with a flat 1D array\n",
    "import numpy as np\n",
    "arr1 = np.array([])\n",
    "arr1 = np.append(arr1, [1,2,3])\n",
    "arr1 = np.append(arr1, [4,5,6])\n",
    "print(arr1)\n",
    "\n",
    "### Append as 2d \n",
    "import numpy as np\n",
    "arr1 = np.array([])\n",
    "for i in range(-2, 2):\n",
    "    data = np.array([[i, i*10]])\n",
    "    if arr1.size == 0:\n",
    "        arr1 = data\n",
    "    else:\n",
    "        arr1 = np.append(arr1, data, axis=0)\n",
    "print(arr1)\n"
   ]
  },
  {
   "cell_type": "code",
   "execution_count": null,
   "metadata": {},
   "outputs": [],
   "source": []
  },
  {
   "cell_type": "code",
   "execution_count": 18,
   "metadata": {},
   "outputs": [
    {
     "name": "stdout",
     "output_type": "stream",
     "text": [
      "(2, 2) (2, 2)\n",
      "[[ 1  2]\n",
      " [ 3  4]\n",
      " [10 20]\n",
      " [30 40]]\n",
      "(4, 2)\n",
      "(2, 4)\n",
      "(2, 4)\n"
     ]
    }
   ],
   "source": [
    "import numpy as np\n",
    "arr1, arr2 = np.array([[1, 2], [3, 4]]), np.array([[10, 20], [30, 40]])\n",
    "print(arr1.shape, arr2.shape)\n",
    "\n",
    "arr_merged = np.append(arr1, arr2, axis=0)\n",
    "print(arr_merged)\n",
    "print(arr_merged.shape)\n",
    "\n",
    "arr_merged = np.append(arr1, arr2, axis=1)\n",
    "print(arr_merged.shape)\n",
    "\n",
    "arr_merged = np.append(arr1, arr2, axis=-1)\n",
    "print(arr_merged.shape)"
   ]
  },
  {
   "cell_type": "code",
   "execution_count": null,
   "metadata": {},
   "outputs": [],
   "source": []
  },
  {
   "attachments": {},
   "cell_type": "markdown",
   "metadata": {},
   "source": [
    "### Stack"
   ]
  },
  {
   "cell_type": "code",
   "execution_count": 36,
   "metadata": {},
   "outputs": [
    {
     "name": "stdout",
     "output_type": "stream",
     "text": [
      "(4, 10)\n",
      "(4, 10)\n",
      "(2, 4, 10)\n",
      "(4, 2, 10)\n",
      "(4, 10, 2)\n"
     ]
    }
   ],
   "source": [
    "import numpy as np\n",
    "\n",
    "a = np.zeros((4,10))\n",
    "print(a.shape)\n",
    "\n",
    "b = a.copy()\n",
    "print(b.shape)\n",
    "\n",
    "c = np.stack([a,b],axis=0)\n",
    "print(c.shape)\n",
    "\n",
    "d = np.stack([a,b],axis=1)\n",
    "print(d.shape)\n",
    "\n",
    "e = np.stack([a,b],axis=2)\n",
    "print(e.shape)\n",
    "\n"
   ]
  },
  {
   "cell_type": "code",
   "execution_count": 43,
   "metadata": {},
   "outputs": [
    {
     "name": "stdout",
     "output_type": "stream",
     "text": [
      "(4, 10)\n",
      "(4, 10, 3)\n",
      "(4, 10, 4)\n"
     ]
    }
   ],
   "source": [
    "import numpy as np\n",
    "\n",
    "a,b,c = np.zeros((4,10)), np.zeros((4,10)), np.zeros((4,10))\n",
    "print(a.shape)\n",
    "\n",
    "d = np.dstack((a,b,c))\n",
    "print(d.shape)\n",
    "\n",
    "e = np.dstack((d,a))\n",
    "print(e.shape)\n"
   ]
  },
  {
   "cell_type": "code",
   "execution_count": 50,
   "metadata": {},
   "outputs": [
    {
     "data": {
      "text/plain": [
       "True"
      ]
     },
     "execution_count": 50,
     "metadata": {},
     "output_type": "execute_result"
    }
   ],
   "source": [
    "isinstance(np.array(), int)"
   ]
  },
  {
   "attachments": {},
   "cell_type": "markdown",
   "metadata": {},
   "source": [
    "## Indexing and slicing"
   ]
  },
  {
   "cell_type": "code",
   "execution_count": 75,
   "metadata": {},
   "outputs": [
    {
     "data": {
      "text/plain": [
       "12"
      ]
     },
     "execution_count": 75,
     "metadata": {},
     "output_type": "execute_result"
    }
   ],
   "source": [
    "array3d = np.array([\n",
    "    [\n",
    "        [1,2,3], [4,5,6]\n",
    "    ], \n",
    "    [\n",
    "        [7,8,9], [10,11,12]\n",
    "    ]\n",
    "])\n",
    "\n",
    "# Access one element\n",
    "array3d[1,1,2]"
   ]
  },
  {
   "cell_type": "code",
   "execution_count": 78,
   "metadata": {},
   "outputs": [
    {
     "data": {
      "text/plain": [
       "array([2, 5, 8])"
      ]
     },
     "execution_count": 78,
     "metadata": {},
     "output_type": "execute_result"
    }
   ],
   "source": [
    "a = np.arange(0, 10)\n",
    "a[2::3]\n"
   ]
  },
  {
   "cell_type": "code",
   "execution_count": 13,
   "metadata": {},
   "outputs": [
    {
     "name": "stdout",
     "output_type": "stream",
     "text": [
      "['a' 'b' 'c']\n"
     ]
    },
    {
     "data": {
      "text/plain": [
       "array([2])"
      ]
     },
     "execution_count": 13,
     "metadata": {},
     "output_type": "execute_result"
    }
   ],
   "source": [
    "# Range > subarray\n",
    "array3d[0, :, :2]\n",
    "\n",
    "# Multi-indexing > numpy array\n",
    "vector1[[0, 3, 2]]\n",
    "\n",
    "# Get only the zero-index elements from a nested array\n",
    "# You can only do it with the numpy array - with the nested list like this:\n",
    "# list1 = [['a',1], ['b',2], ['c',3]]\n",
    "# print(list1[:, 0])\n",
    "#  it is an invalid operation!\n",
    "list1 = np.array( [['a',1], ['b',2], ['c',3]] )\n",
    "print(list1[:, 0])\n",
    "\n",
    "# Compare numpy arrays, output = array of booleans\n",
    "array2d_1 == array2d_2\n",
    "# sum booleans (True=1, False=0)\n",
    "(array2d_1 == array2d_2).sum()\n",
    "\n",
    "\"\"\"\n",
    "Array manipulation functions: \n",
    "np.reshape, np.stack, np.concatenate, np.split\n",
    "\"\"\"\n"
   ]
  },
  {
   "cell_type": "code",
   "execution_count": 5,
   "metadata": {},
   "outputs": [
    {
     "name": "stdout",
     "output_type": "stream",
     "text": [
      "Original array:  [0 1 2 3 4 5 6]\n",
      "Boolean mask:  [ True False  True False  True False  True]\n",
      "Sliced array:  [0 2 4 6]\n"
     ]
    }
   ],
   "source": [
    "\"\"\"\n",
    "Boolean arrays (masks)\n",
    "Boolean array - a way to select multiindex items\n",
    "Boolean mask can be created by the following ways:\n",
    "\n",
    "mask = a < 0 # create a boolean mask\n",
    "a[mask] # apply that boolean mask to an array, producing a sliced array\n",
    "\n",
    "a[a > a.mean()]\n",
    "\n",
    "mask = a[(a == 0) | (a == 1)]\n",
    "a[mask]\n",
    "# or\n",
    "a[ (a==2) | (a==10) ]\n",
    "\n",
    "\"\"\"\n",
    "\n",
    "import numpy as np\n",
    "\n",
    "a = np.arange(7)\n",
    "print(\"Original array: \", a)\n",
    "\n",
    "b = (a % 2 == 0)\n",
    "print(\"Boolean mask: \", b)\n",
    "\n",
    "c = a[b]\n",
    "print(\"Sliced array: \", c)"
   ]
  },
  {
   "cell_type": "code",
   "execution_count": 30,
   "metadata": {},
   "outputs": [
    {
     "data": {
      "text/plain": [
       "array([0, 1, 1, 1, 0, 0])"
      ]
     },
     "execution_count": 30,
     "metadata": {},
     "output_type": "execute_result"
    }
   ],
   "source": [
    "import numpy as np\n",
    "\n",
    "a1 = np.array([0,1,3,2,0,-1])\n",
    "a2 = (a1 > 0).astype('int32')\n",
    "a2"
   ]
  },
  {
   "cell_type": "code",
   "execution_count": 14,
   "metadata": {},
   "outputs": [
    {
     "name": "stdout",
     "output_type": "stream",
     "text": [
      "[1, 4, 7]\n",
      "[1 4 7]\n"
     ]
    }
   ],
   "source": [
    "### A Numpy array can be sliced in a cool way:\n",
    "### Let's say you want to slice a list or array so that you get element at index 1 from each sublevel\n",
    "\n",
    "### Normal list comprehensions\n",
    "list1 = [[0,1,2],[3,4,5],[6,7,8]]\n",
    "print( [i[1] for i in list1] )\n",
    "\n",
    "### special numpy slicing\n",
    "import numpy as np\n",
    "list2 = np.array(list1)\n",
    "print( list2[:,1] )"
   ]
  },
  {
   "cell_type": "code",
   "execution_count": 24,
   "metadata": {},
   "outputs": [
    {
     "name": "stdout",
     "output_type": "stream",
     "text": [
      "~~~ Original array\n",
      "(3, 3, 10)\n",
      "[[[  0   1   2   3   4   5   6   7   8   9]\n",
      "  [  8   8   7   6   5   4   3   2   1   0]\n",
      "  [  0   0   0   1   2   9   2   2   0   0]]\n",
      "\n",
      " [[  0  10  20  30  40  50  60  70  80  90]\n",
      "  [ 90  80  70  60  50  40  30  20  10   0]\n",
      "  [  0   0   0  10  20  90  20  20  10   0]]\n",
      "\n",
      " [[  0 100 200 300 400 500 600 700 800 900]\n",
      "  [  9   8   7   6   5   4   3   2   1   0]\n",
      "  [  0   0   0   1   2   9   2   2   0   0]]]\n",
      "\n",
      "\n",
      "~~~ b = a[0]\n",
      "(3, 10)\n",
      "[[0 1 2 3 4 5 6 7 8 9]\n",
      " [8 8 7 6 5 4 3 2 1 0]\n",
      " [0 0 0 1 2 9 2 2 0 0]]\n",
      "\n",
      "\n",
      "~~~ c = a[:,:,0]\n",
      "(3, 3)\n",
      "[[ 0  8  0]\n",
      " [ 0 90  0]\n",
      " [ 0  9  0]]\n",
      "\n",
      "\n",
      "~~~ d = a[:,:,3:6]\n",
      "(3, 3, 3)\n",
      "[[[  3   4   5]\n",
      "  [  6   5   4]\n",
      "  [  1   2   9]]\n",
      "\n",
      " [[ 30  40  50]\n",
      "  [ 60  50  40]\n",
      "  [ 10  20  90]]\n",
      "\n",
      " [[300 400 500]\n",
      "  [  6   5   4]\n",
      "  [  1   2   9]]]\n",
      "\n",
      "\n"
     ]
    }
   ],
   "source": [
    "import numpy as np\n",
    "\n",
    "a = np.array([\n",
    "    [\n",
    "        [0,1,2,3,4,5,6,7,8,9],\n",
    "        [8,8,7,6,5,4,3,2,1,0],\n",
    "        [0,0,0,1,2,9,2,2,0,0]\n",
    "    ],\n",
    "    [\n",
    "        [0,10,20,30,40,50,60,70,80,90],\n",
    "        [90,80,70,60,50,40,30,20,10,0],\n",
    "        [0, 0, 0, 10,20,90,20,20,10, 0]\n",
    "    ],\n",
    "    [\n",
    "        [0,100,200,300,400,500,600,700,800,900],\n",
    "        [9,8,7,6,5,4,3,2,1,0],\n",
    "        [0,0,0,1,2,9,2,2,0,0]\n",
    "    ]\n",
    "])\n",
    "\n",
    "print('~~~ Original array')\n",
    "print(a.shape)\n",
    "print(a)\n",
    "print('\\n')\n",
    "\n",
    "print('~~~ b = a[0]')\n",
    "b = a[0]\n",
    "print(b.shape)\n",
    "print(b)\n",
    "print('\\n')\n",
    "\n",
    "print('~~~ c = a[:,:,0]')\n",
    "c = a[:,:,0]\n",
    "print(c.shape)\n",
    "print(c)\n",
    "print('\\n')\n",
    "\n",
    "print('~~~ d = a[:,:,3:6]')\n",
    "d = a[:,:,3:6]\n",
    "print(d.shape)\n",
    "print(d)\n",
    "print('\\n')"
   ]
  },
  {
   "attachments": {},
   "cell_type": "markdown",
   "metadata": {},
   "source": [
    "# Math and stats"
   ]
  },
  {
   "cell_type": "code",
   "execution_count": 82,
   "metadata": {},
   "outputs": [
    {
     "name": "stdout",
     "output_type": "stream",
     "text": [
      "45\n",
      "4.5\n"
     ]
    }
   ],
   "source": [
    "import numpy as np\n",
    "\n",
    "a = np.arange(0, 10)\n",
    "print( a.sum() )\n",
    "print( a.mean() )\n"
   ]
  },
  {
   "cell_type": "code",
   "execution_count": 1,
   "metadata": {},
   "outputs": [
    {
     "name": "stdout",
     "output_type": "stream",
     "text": [
      "(3, 2)\n"
     ]
    },
    {
     "data": {
      "text/plain": [
       "array([20.,  2.])"
      ]
     },
     "execution_count": 1,
     "metadata": {},
     "output_type": "execute_result"
    }
   ],
   "source": [
    "import numpy as np\n",
    "\n",
    "a = np.array([[10, 1], [20, 2], [30, 3]])\n",
    "print(a.shape)\n",
    "a.mean(axis=0)\n"
   ]
  },
  {
   "cell_type": "code",
   "execution_count": 7,
   "metadata": {},
   "outputs": [
    {
     "name": "stdout",
     "output_type": "stream",
     "text": [
      "-2\n",
      "True\n",
      "[-2 15]\n"
     ]
    }
   ],
   "source": [
    "import numpy as np\n",
    "\n",
    "a = np.array([-2,-1,0,1,2])\n",
    "print(np.min(a))\n",
    "\n",
    "b = np.array([[0],\n",
    " [0],\n",
    " [0],\n",
    " [0],\n",
    " [0]])\n",
    "print(np.max(b) == 0)\n",
    "\n",
    "a = np.array([[1,16], [-2,15], [-1,14], [0,13]])\n",
    "print( a[np.argmin(a[:,0])] )"
   ]
  },
  {
   "cell_type": "code",
   "execution_count": 5,
   "metadata": {},
   "outputs": [
    {
     "data": {
      "text/plain": [
       "1"
      ]
     },
     "execution_count": 5,
     "metadata": {},
     "output_type": "execute_result"
    }
   ],
   "source": [
    "\"\"\"\n",
    "np.argmax\n",
    "returns index of an item in a list with the greatest value\n",
    "\"\"\"\n",
    "import numpy as np\n",
    "\n",
    "np.argmax([10, 18, 3])"
   ]
  },
  {
   "cell_type": "code",
   "execution_count": 2,
   "metadata": {},
   "outputs": [
    {
     "data": {
      "text/plain": [
       "False"
      ]
     },
     "execution_count": 2,
     "metadata": {},
     "output_type": "execute_result"
    }
   ],
   "source": [
    "import numpy as np\n",
    "\n",
    "np.sign(5) == np.sign(-5)"
   ]
  },
  {
   "cell_type": "code",
   "execution_count": 14,
   "metadata": {},
   "outputs": [],
   "source": [
    "\"\"\"\n",
    "Mathematics functions: \n",
    "np.sum, np.exp, np.round\n",
    "\"\"\"\n",
    "vector1 = np.array([1, 2, 3, 4], dtype=int)\n",
    "vector2 = np.array([1, 2, 3, 4], dtype=int)\n",
    "\n",
    "# Element-wise addition\n",
    "vector1 + vector2\n",
    "\n",
    "# Add a scalar\n",
    "vector1 + 10\n",
    "# Inplace\n",
    "vector1 += 10\n",
    "\n"
   ]
  },
  {
   "cell_type": "code",
   "execution_count": 12,
   "metadata": {},
   "outputs": [
    {
     "data": {
      "text/plain": [
       "array([ 4, 10, 18])"
      ]
     },
     "execution_count": 12,
     "metadata": {},
     "output_type": "execute_result"
    }
   ],
   "source": [
    "\"\"\"\n",
    "Linear algebra:\n",
    "np.matmul, np.dot, np.transpose, np.eigvals\n",
    "\"\"\"\n",
    "\n",
    "a = np.array([\n",
    "\t[1, 2, 3], \n",
    "\t[4, 5, 6], \n",
    "\t[7, 8, 9]\n",
    "])\n",
    "b = np.random.rand(3, 3)\n",
    "\n",
    "# Dot product\n",
    "a.dot(b)\n",
    "\n",
    "# Vector multiplication\n",
    "vector1 = np.array([1, 2, 3])\n",
    "vector2 = np.array([4, 5, 6])\n",
    "vector1 * vector2\n"
   ]
  },
  {
   "cell_type": "code",
   "execution_count": 2,
   "metadata": {},
   "outputs": [
    {
     "data": {
      "text/plain": [
       "array([[ 3,  6],\n",
       "       [ 9, 12]])"
      ]
     },
     "execution_count": 2,
     "metadata": {},
     "output_type": "execute_result"
    }
   ],
   "source": [
    "\"\"\"\n",
    "Statistics functions:\n",
    "np.mean, np.median, np.std, np.max\n",
    "\"\"\"\n",
    "import numpy as np\n",
    "\n",
    "vector1 = np.array([1, 2, 3, 4], dtype=int)\n",
    "vector2 = np.array([1, 2, 3, 4], dtype=int)\n",
    "array2d = np.array([\n",
    "\t[1, 2, 3], \n",
    "\t[4, 5, 6]\n",
    "])\n",
    "array3d = np.array([\n",
    "\t[\n",
    "\t\t[1, 2, 3],\n",
    "\t\t[4, 5, 6],\n",
    "\t], \n",
    "\t[\n",
    "\t\t[7, 8, 9],\n",
    "\t\t[10, 11, 12],\n",
    "\t]\n",
    "])\n",
    "\n",
    "array3d[0, 0].sum()\n",
    "array3d[0, 0].mean()\n",
    "### Standard Deviation\n",
    "array3d[0, 0].std() # by default, ddof = 0 (for population SD)\n",
    "array3d[0,0].std(ddof=1) # for sample = N-1\n",
    "\n",
    "array2d.sum() # sum of all elements\n",
    "array2d.sum(axis=0) # sum of columns\n",
    "array2d.sum(axis=1) # sum of rows\n",
    "\n",
    "\n",
    "### Maximum element of all elements\n",
    "array3d.max()\n",
    "np.max(array3d)\n",
    "### Maximum of elements within the same column\n",
    "np.max(array3d, axis=0)\n",
    "### Maximum of elements within the same row\n",
    "np.max(array3d, axis=1)\n",
    "### Maximum of elements within the last axis (depth)\n",
    "np.max(array3d, axis=2)\n"
   ]
  },
  {
   "cell_type": "code",
   "execution_count": 10,
   "metadata": {},
   "outputs": [
    {
     "name": "stdout",
     "output_type": "stream",
     "text": [
      "(2, 2, 3)\n",
      "[[[ 1  2  3]\n",
      "  [ 4  5 12]]\n",
      "\n",
      " [[ 7  8  9]\n",
      "  [10 11  6]]]\n",
      "----------------------------------------------------------------------------------------------------\n",
      "(2, 3)\n",
      "[[ 7  8  9]\n",
      " [10 11 12]]\n",
      "----------------------------------------------------------------------------------------------------\n",
      "(2, 3)\n",
      "[[ 4  5 12]\n",
      " [10 11  9]]\n",
      "----------------------------------------------------------------------------------------------------\n",
      "(2, 2)\n",
      "[[ 3 12]\n",
      " [ 9 11]]\n",
      "----------------------------------------------------------------------------------------------------\n"
     ]
    }
   ],
   "source": [
    "import numpy as np\n",
    "\n",
    "array3d = np.array([\n",
    "\t[\n",
    "\t\t[1, 2, 3],\n",
    "\t\t[4, 5, 12],\n",
    "\t], \n",
    "\t[\n",
    "\t\t[7, 8, 9],\n",
    "\t\t[10, 11, 6],\n",
    "\t]\n",
    "])\n",
    "\n",
    "print(array3d.shape)\n",
    "print(array3d)\n",
    "print('-'*100)\n",
    "\n",
    "array3d_0 = np.max(array3d, axis=0)\n",
    "print(array3d_0.shape)\n",
    "print(array3d_0)\n",
    "print('-'*100)\n",
    "\n",
    "array3d_1 = np.max(array3d, axis=1)\n",
    "print(array3d_1.shape)\n",
    "print(array3d_1)\n",
    "print('-'*100)\n",
    "\n",
    "array3d_2 = np.max(array3d, axis=2)\n",
    "print(array3d_2.shape)\n",
    "print(array3d_2)\n",
    "print('-'*100)\n"
   ]
  },
  {
   "cell_type": "code",
   "execution_count": 44,
   "metadata": {},
   "outputs": [
    {
     "data": {
      "text/plain": [
       "array([[ 3,  6],\n",
       "       [ 9, 12]])"
      ]
     },
     "execution_count": 44,
     "metadata": {},
     "output_type": "execute_result"
    }
   ],
   "source": [
    "import numpy as np\n",
    "\n",
    "array3d = np.array([\n",
    "\t[\n",
    "\t\t[1, 2, 3],\n",
    "\t\t[4, 5, 6],\n",
    "\t], \n",
    "\t[\n",
    "\t\t[7, 8, 9],\n",
    "\t\t[10, 11, 12],\n",
    "\t]\n",
    "])\n",
    "\n",
    "np.max(array3d, axis=-1)"
   ]
  },
  {
   "cell_type": "code",
   "execution_count": 17,
   "metadata": {},
   "outputs": [
    {
     "data": {
      "image/png": "[encoded data removed]",
      "text/plain": [
       "<Figure size 432x288 with 1 Axes>"
      ]
     },
     "metadata": {
      "needs_background": "light"
     },
     "output_type": "display_data"
    }
   ],
   "source": [
    "import numpy as np\n",
    "import matplotlib.pyplot as plt\n",
    "import seaborn as sns\n",
    "\n",
    "sample = np.random.normal(\n",
    "\t150, # mean = 150\n",
    "\t10, # SD = 10\n",
    "\t30 # n=30\n",
    "\t)\n",
    "\n",
    "sns.kdeplot(sample);"
   ]
  },
  {
   "cell_type": "code",
   "execution_count": 18,
   "metadata": {},
   "outputs": [
    {
     "data": {
      "text/plain": [
       "[<matplotlib.lines.Line2D at 0x156bc7a20e0>]"
      ]
     },
     "execution_count": 18,
     "metadata": {},
     "output_type": "execute_result"
    },
    {
     "data": {
      "image/png": "[encoded data removed]",
      "text/plain": [
       "<Figure size 432x288 with 1 Axes>"
      ]
     },
     "metadata": {
      "needs_background": "light"
     },
     "output_type": "display_data"
    }
   ],
   "source": [
    "import numpy as np, matplotlib.pyplot as plt\n",
    "from scipy.special import factorial\n",
    "\n",
    "# When working with arrays, you need to use scipy to calculate factorial numbers\n",
    "\n",
    "# Plot a graph of combinations without repetitions \"n choose r\"\n",
    "# where in this case 'r' has a fixed value of 2 \n",
    "\n",
    "x = np.arange(3, 11, 1)\n",
    "y = factorial(x) / ( factorial(2) * factorial(x-2) )\n",
    "plt.plot( x, y )"
   ]
  },
  {
   "cell_type": "code",
   "execution_count": 1,
   "metadata": {},
   "outputs": [
    {
     "data": {
      "text/plain": [
       "1.4142135623730951"
      ]
     },
     "execution_count": 1,
     "metadata": {},
     "output_type": "execute_result"
    }
   ],
   "source": [
    "import numpy as np\n",
    "\n",
    "a = [1,2,3,4,5]\n",
    "np.std(a)"
   ]
  },
  {
   "cell_type": "code",
   "execution_count": 5,
   "metadata": {},
   "outputs": [
    {
     "data": {
      "text/plain": [
       "array([2.71828183, 7.3890561 ])"
      ]
     },
     "execution_count": 5,
     "metadata": {},
     "output_type": "execute_result"
    }
   ],
   "source": [
    "\"\"\"\n",
    "Calculating exponents of $e$ (Euler's) number\n",
    "\"\"\";\n",
    "import numpy as np\n",
    "\n",
    "np.exp(1) # 2.7182...\n",
    "np.exp(2) # 7.3890...\n",
    "np.exp([1,2]) # -> array\n"
   ]
  },
  {
   "attachments": {},
   "cell_type": "markdown",
   "metadata": {},
   "source": [
    "# Change arrays"
   ]
  },
  {
   "cell_type": "code",
   "execution_count": 10,
   "metadata": {},
   "outputs": [
    {
     "data": {
      "text/plain": [
       "array([1, 2, 3, 5, 6, 8, 9])"
      ]
     },
     "execution_count": 10,
     "metadata": {},
     "output_type": "execute_result"
    }
   ],
   "source": [
    "X = np.array([5, 1, 2, 3, 6, 9, 8])\n",
    "X = np.sort(X)\n",
    "X"
   ]
  },
  {
   "cell_type": "code",
   "execution_count": 42,
   "metadata": {},
   "outputs": [
    {
     "name": "stdout",
     "output_type": "stream",
     "text": [
      "(500, 500, 3)\n"
     ]
    },
    {
     "data": {
      "image/png": "[encoded data removed]",
      "text/plain": [
       "<Figure size 640x480 with 1 Axes>"
      ]
     },
     "metadata": {},
     "output_type": "display_data"
    },
    {
     "name": "stdout",
     "output_type": "stream",
     "text": [
      "(500, 500, 3)\n"
     ]
    },
    {
     "data": {
      "image/png": "[encoded data removed]",
      "text/plain": [
       "<Figure size 640x480 with 1 Axes>"
      ]
     },
     "metadata": {},
     "output_type": "display_data"
    },
    {
     "name": "stdout",
     "output_type": "stream",
     "text": [
      "concatenate vertically (1000, 500, 3)\n"
     ]
    },
    {
     "data": {
      "image/png": "[encoded data removed]",
      "text/plain": [
       "<Figure size 640x480 with 1 Axes>"
      ]
     },
     "metadata": {},
     "output_type": "display_data"
    },
    {
     "name": "stdout",
     "output_type": "stream",
     "text": [
      "concatenate horisontally (500, 1000, 3)\n"
     ]
    },
    {
     "data": {
      "image/png": "[encoded data removed]",
      "text/plain": [
       "<Figure size 640x480 with 1 Axes>"
      ]
     },
     "metadata": {},
     "output_type": "display_data"
    }
   ],
   "source": [
    "import numpy as np\n",
    "from PIL import Image\n",
    "import matplotlib.pyplot as plt\n",
    "\n",
    "a = np.ones((500,500,3), dtype=np.uint8)\n",
    "# a = np.full([500,500,3], [0,0,255])\n",
    "print(a.shape)\n",
    "plt.imshow(Image.fromarray(a, mode='RGB'))\n",
    "plt.show()\n",
    "\n",
    "b = np.zeros((500,500,3), dtype=np.uint8)\n",
    "b = np.full([500,500,3], [255,0,0], dtype=np.uint8)\n",
    "print(b.shape)\n",
    "plt.imshow(Image.fromarray(b, mode='RGB'))\n",
    "plt.show()\n",
    "\n",
    "\n",
    "### Concatenate vertically\n",
    "c = np.concatenate([a,b], axis=0)\n",
    "print('concatenate vertically', c.shape)\n",
    "plt.imshow(Image.fromarray(c, mode='RGB'))\n",
    "plt.title('Concatenate vertically')\n",
    "plt.show()\n",
    "\n",
    "### Concatenate horisontally\n",
    "d = np.concatenate([a,b], axis=1)\n",
    "print('concatenate horisontally', d.shape)\n",
    "plt.imshow(Image.fromarray(d, mode='RGB'))\n",
    "plt.title('Concatenate horisontally')\n",
    "plt.show()"
   ]
  },
  {
   "attachments": {},
   "cell_type": "markdown",
   "metadata": {},
   "source": [
    "# Sampling"
   ]
  },
  {
   "cell_type": "code",
   "execution_count": 2,
   "metadata": {},
   "outputs": [
    {
     "data": {
      "text/plain": [
       "array([0, 1, 2, 3, 4, 5, 6, 7, 8, 9])"
      ]
     },
     "execution_count": 2,
     "metadata": {},
     "output_type": "execute_result"
    }
   ],
   "source": [
    "import numpy as np\n",
    "\n",
    "data = np.arange(0, 10)\n",
    "data"
   ]
  },
  {
   "cell_type": "code",
   "execution_count": 11,
   "metadata": {},
   "outputs": [
    {
     "data": {
      "text/plain": [
       "array([7, 8, 2, 0, 5])"
      ]
     },
     "execution_count": 11,
     "metadata": {},
     "output_type": "execute_result"
    }
   ],
   "source": [
    "np.random.choice(data, size=5, replace=False)"
   ]
  },
  {
   "cell_type": "markdown",
   "metadata": {},
   "source": [
    "## Permutation"
   ]
  },
  {
   "cell_type": "code",
   "execution_count": 21,
   "metadata": {},
   "outputs": [
    {
     "name": "stdout",
     "output_type": "stream",
     "text": [
      "[137 123 122 103 144 150 120 114 130 133 112 104 111 113 124 101 116 139\n",
      " 143 127 136 109 126 149 129 142 117 146 107 100 145 134 106 131 140 138\n",
      " 141 125 118 135 119 102 128 148 105 108 132 115 147 110 121]\n",
      "[36  9 18  8 25 31 38 14  4 46 48 44 26 22 12 21  5 29 11 27 30 16  2  6\n",
      " 47 49 43 33 20 13  0  3 50 15 40  1 45 17 28 41 42 24 34 19 39 37 35  7\n",
      " 10 23 32]\n"
     ]
    }
   ],
   "source": [
    "import numpy as np\n",
    "\n",
    "data = [i for i in range(100,151)]\n",
    "\n",
    "shuffled_data = np.random.permutation(data)\n",
    "print(shuffled_data)\n",
    "\n",
    "shuffled_indices = np.random.permutation(len(data))\n",
    "print(shuffled_indices)\n"
   ]
  },
  {
   "attachments": {},
   "cell_type": "markdown",
   "metadata": {},
   "source": [
    "# Size of objects in memory"
   ]
  },
  {
   "cell_type": "code",
   "execution_count": 20,
   "metadata": {},
   "outputs": [
    {
     "name": "stdout",
     "output_type": "stream",
     "text": [
      "CPU times: total: 46.9 ms\n",
      "Wall time: 41.7 ms\n",
      "CPU times: total: 0 ns\n",
      "Wall time: 1.02 ms\n"
     ]
    },
    {
     "data": {
      "text/plain": [
       "800"
      ]
     },
     "execution_count": 20,
     "metadata": {},
     "output_type": "execute_result"
    }
   ],
   "source": [
    "# Size of objects in memory\n",
    "\n",
    "# An integer 1 in Python is 28 bytes\n",
    "import sys\n",
    "sys.getsizeof(1)\n",
    "# Numpy size is much smaller\n",
    "np.dtype(int).itemsize\n",
    "\n",
    "# Lists are larger, e.g. list of one element 1 is 64 bytes\n",
    "sys.getsizeof([1])\n",
    "# An array of one element in numpy = 4 bytes\n",
    "np.array([1]).nbytes\n",
    "\n",
    "# Performance of Python\n",
    "l = list(range(100000))\n",
    "%time sum([x**2 for x in l])\n",
    "# Performance of Numpy\n",
    "a = np.arange(100000)\n",
    "%time np.sum(a**2)\n",
    "\n",
    "\n",
    "# Show memory size in bytes of a Numpy matrix\n",
    "np.zeros((10, 10)).nbytes\n"
   ]
  },
  {
   "cell_type": "markdown",
   "metadata": {},
   "source": [
    "# ML\n",
    "\n",
    "**Feature vectors**:\n",
    "\n",
    "Dataset:\n",
    "\n",
    "| Temperature (Celsius) | Duration (minutes) | Good coffee? (1/0) |\n",
    "| - | - | - |\n",
    "| 200.0 | 17.0 | 1 |\n",
    "| 425.0 | 18.5 | 0 |\n",
    "\n",
    "Feature vector:\n",
    "\n",
    "```py\n",
    "\"\"\"\n",
    "Feature vector for the first data point\n",
    "\"\"\"\n",
    "X = np.array([[200.0, 17.0]])\n",
    "```"
   ]
  }
 ],
 "metadata": {
  "kernelspec": {
   "display_name": "Python 3",
   "language": "python",
   "name": "python3"
  },
  "language_info": {
   "codemirror_mode": {
    "name": "ipython",
    "version": 3
   },
   "file_extension": ".py",
   "mimetype": "text/x-python",
   "name": "python",
   "nbconvert_exporter": "python",
   "pygments_lexer": "ipython3",
   "version": "3.12.10"
  },
  "orig_nbformat": 4
 },
 "nbformat": 4,
 "nbformat_minor": 2
}
