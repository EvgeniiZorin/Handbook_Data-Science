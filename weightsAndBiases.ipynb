{
 "cells": [
  {
   "cell_type": "code",
   "execution_count": 1,
   "metadata": {},
   "outputs": [
    {
     "name": "stderr",
     "output_type": "stream",
     "text": [
      "WARNING: Ignoring invalid distribution -rotobuf (c:\\users\\data science\\miniconda3\\envs\\ml\\lib\\site-packages)\n",
      "WARNING: Ignoring invalid distribution -rotobuf (c:\\users\\data science\\miniconda3\\envs\\ml\\lib\\site-packages)\n"
     ]
    }
   ],
   "source": [
    "!pip install wandb -qU\n",
    "\n",
    "import wandb\n",
    "wandb.login()\n"
   ]
  },
  {
   "cell_type": "code",
   "execution_count": 18,
   "metadata": {},
   "outputs": [
    {
     "data": {
      "text/html": [
       "Tracking run with wandb version 0.15.4"
      ],
      "text/plain": [
       "<IPython.core.display.HTML object>"
      ]
     },
     "metadata": {},
     "output_type": "display_data"
    },
    {
     "data": {
      "text/html": [
       "Run data is saved locally in <code>c:\\Users\\Data Science\\Desktop\\Handbook_Data-Science\\wandb\\run-20230704_165622-9hjle9c7</code>"
      ],
      "text/plain": [
       "<IPython.core.display.HTML object>"
      ]
     },
     "metadata": {},
     "output_type": "display_data"
    },
    {
     "data": {
      "text/html": [
       "Syncing run <strong><a href='https://wandb.ai/zorin-evgenii/230704_trial_project1/runs/9hjle9c7' target=\"_blank\">feasible-spaceship-5</a></strong> to <a href='https://wandb.ai/zorin-evgenii/230704_trial_project1' target=\"_blank\">Weights & Biases</a> (<a href='https://wandb.me/run' target=\"_blank\">docs</a>)<br/>"
      ],
      "text/plain": [
       "<IPython.core.display.HTML object>"
      ]
     },
     "metadata": {},
     "output_type": "display_data"
    },
    {
     "data": {
      "text/html": [
       " View project at <a href='https://wandb.ai/zorin-evgenii/230704_trial_project1' target=\"_blank\">https://wandb.ai/zorin-evgenii/230704_trial_project1</a>"
      ],
      "text/plain": [
       "<IPython.core.display.HTML object>"
      ]
     },
     "metadata": {},
     "output_type": "display_data"
    },
    {
     "data": {
      "text/html": [
       " View run at <a href='https://wandb.ai/zorin-evgenii/230704_trial_project1/runs/9hjle9c7' target=\"_blank\">https://wandb.ai/zorin-evgenii/230704_trial_project1/runs/9hjle9c7</a>"
      ],
      "text/plain": [
       "<IPython.core.display.HTML object>"
      ]
     },
     "metadata": {},
     "output_type": "display_data"
    },
    {
     "name": "stdout",
     "output_type": "stream",
     "text": [
      "Model: \"sequential_11\"\n",
      "_________________________________________________________________\n",
      " Layer (type)                Output Shape              Param #   \n",
      "=================================================================\n",
      " dense_44 (Dense)            (None, 20)                40        \n",
      "                                                                 \n",
      " dense_45 (Dense)            (None, 20)                420       \n",
      "                                                                 \n",
      " dense_46 (Dense)            (None, 20)                420       \n",
      "                                                                 \n",
      " dense_47 (Dense)            (None, 1)                 21        \n",
      "                                                                 \n",
      "=================================================================\n",
      "Total params: 901\n",
      "Trainable params: 901\n",
      "Non-trainable params: 0\n",
      "_________________________________________________________________\n",
      "Epoch 1/60\n",
      "94/94 [==============================] - 3s 2ms/step - loss: 0.2070 - mae: 0.3912 - mse: 0.2070\n",
      "Epoch 2/60\n",
      "94/94 [==============================] - 0s 2ms/step - loss: 0.1203 - mae: 0.3079 - mse: 0.1203\n",
      "Epoch 3/60\n",
      "94/94 [==============================] - 0s 2ms/step - loss: 0.1000 - mae: 0.2721 - mse: 0.1000\n",
      "Epoch 4/60\n",
      "94/94 [==============================] - 0s 2ms/step - loss: 0.0979 - mae: 0.2695 - mse: 0.0979\n",
      "Epoch 5/60\n",
      "94/94 [==============================] - 0s 2ms/step - loss: 0.0970 - mae: 0.2666 - mse: 0.0970\n",
      "Epoch 6/60\n",
      "94/94 [==============================] - 0s 2ms/step - loss: 0.0957 - mae: 0.2644 - mse: 0.0957\n",
      "Epoch 7/60\n",
      "94/94 [==============================] - 0s 2ms/step - loss: 0.0947 - mae: 0.2622 - mse: 0.0947\n",
      "Epoch 8/60\n",
      "94/94 [==============================] - 0s 2ms/step - loss: 0.0940 - mae: 0.2598 - mse: 0.0940\n",
      "Epoch 9/60\n",
      "94/94 [==============================] - 0s 2ms/step - loss: 0.0923 - mae: 0.2570 - mse: 0.0923\n",
      "Epoch 10/60\n",
      "94/94 [==============================] - 0s 2ms/step - loss: 0.0905 - mae: 0.2524 - mse: 0.0905\n",
      "Epoch 11/60\n",
      "94/94 [==============================] - 0s 2ms/step - loss: 0.0878 - mae: 0.2467 - mse: 0.0878\n",
      "Epoch 12/60\n",
      "94/94 [==============================] - 0s 2ms/step - loss: 0.0855 - mae: 0.2417 - mse: 0.0855\n",
      "Epoch 13/60\n",
      "94/94 [==============================] - 0s 1ms/step - loss: 0.0820 - mae: 0.2352 - mse: 0.0820\n",
      "Epoch 14/60\n",
      "94/94 [==============================] - 0s 2ms/step - loss: 0.0787 - mae: 0.2289 - mse: 0.0787\n",
      "Epoch 15/60\n",
      "94/94 [==============================] - 0s 2ms/step - loss: 0.0749 - mae: 0.2197 - mse: 0.0749\n",
      "Epoch 16/60\n",
      "94/94 [==============================] - 0s 2ms/step - loss: 0.0686 - mae: 0.2090 - mse: 0.0686\n",
      "Epoch 17/60\n",
      "94/94 [==============================] - 0s 2ms/step - loss: 0.0618 - mae: 0.1976 - mse: 0.0618\n",
      "Epoch 18/60\n",
      "94/94 [==============================] - 0s 2ms/step - loss: 0.0500 - mae: 0.1754 - mse: 0.0500\n",
      "Epoch 19/60\n",
      "94/94 [==============================] - 0s 2ms/step - loss: 0.0316 - mae: 0.1403 - mse: 0.0316\n",
      "Epoch 20/60\n",
      "94/94 [==============================] - 0s 2ms/step - loss: 0.0232 - mae: 0.1206 - mse: 0.0232\n",
      "Epoch 21/60\n",
      "94/94 [==============================] - 0s 2ms/step - loss: 0.0171 - mae: 0.0996 - mse: 0.0171\n",
      "Epoch 22/60\n",
      "94/94 [==============================] - 0s 2ms/step - loss: 0.0157 - mae: 0.0951 - mse: 0.0157\n",
      "Epoch 23/60\n",
      "94/94 [==============================] - 0s 2ms/step - loss: 0.0124 - mae: 0.0791 - mse: 0.0124\n",
      "Epoch 24/60\n",
      "94/94 [==============================] - 0s 2ms/step - loss: 0.0121 - mae: 0.0778 - mse: 0.0121\n",
      "Epoch 25/60\n",
      "94/94 [==============================] - 0s 2ms/step - loss: 0.0097 - mae: 0.0670 - mse: 0.0097\n",
      "Epoch 26/60\n",
      "94/94 [==============================] - 0s 2ms/step - loss: 0.0089 - mae: 0.0615 - mse: 0.0089\n",
      "Epoch 27/60\n",
      "94/94 [==============================] - 0s 2ms/step - loss: 0.0079 - mae: 0.0580 - mse: 0.0079\n",
      "Epoch 28/60\n",
      "94/94 [==============================] - 0s 2ms/step - loss: 0.0074 - mae: 0.0580 - mse: 0.0074\n",
      "Epoch 29/60\n",
      "94/94 [==============================] - 0s 2ms/step - loss: 0.0065 - mae: 0.0522 - mse: 0.0065\n",
      "Epoch 30/60\n",
      "94/94 [==============================] - 0s 2ms/step - loss: 0.0057 - mae: 0.0491 - mse: 0.0057\n",
      "Epoch 31/60\n",
      "94/94 [==============================] - 0s 2ms/step - loss: 0.0053 - mae: 0.0479 - mse: 0.0053\n",
      "Epoch 32/60\n",
      "94/94 [==============================] - 0s 1ms/step - loss: 0.0046 - mae: 0.0438 - mse: 0.0046\n",
      "Epoch 33/60\n",
      "94/94 [==============================] - 0s 2ms/step - loss: 0.0043 - mae: 0.0431 - mse: 0.0043\n",
      "Epoch 34/60\n",
      "94/94 [==============================] - 0s 2ms/step - loss: 0.0036 - mae: 0.0402 - mse: 0.0036\n",
      "Epoch 35/60\n",
      "94/94 [==============================] - 0s 2ms/step - loss: 0.0032 - mae: 0.0368 - mse: 0.0032\n",
      "Epoch 36/60\n",
      "94/94 [==============================] - 0s 1ms/step - loss: 0.0026 - mae: 0.0327 - mse: 0.0026\n",
      "Epoch 37/60\n",
      "94/94 [==============================] - 0s 2ms/step - loss: 0.0025 - mae: 0.0348 - mse: 0.0025\n",
      "Epoch 38/60\n",
      "94/94 [==============================] - 0s 2ms/step - loss: 0.0020 - mae: 0.0279 - mse: 0.0020\n",
      "Epoch 39/60\n",
      "94/94 [==============================] - 0s 2ms/step - loss: 0.0019 - mae: 0.0295 - mse: 0.0019\n",
      "Epoch 40/60\n",
      "94/94 [==============================] - 0s 2ms/step - loss: 0.0017 - mae: 0.0283 - mse: 0.0017\n",
      "Epoch 41/60\n",
      "94/94 [==============================] - 0s 2ms/step - loss: 0.0015 - mae: 0.0272 - mse: 0.0015\n",
      "Epoch 42/60\n",
      "94/94 [==============================] - 0s 1ms/step - loss: 0.0014 - mae: 0.0256 - mse: 0.0014\n",
      "Epoch 43/60\n",
      "94/94 [==============================] - 0s 2ms/step - loss: 0.0013 - mae: 0.0246 - mse: 0.0013\n",
      "Epoch 44/60\n",
      "94/94 [==============================] - 0s 2ms/step - loss: 9.9810e-04 - mae: 0.0210 - mse: 9.9810e-04\n",
      "Epoch 45/60\n",
      "94/94 [==============================] - 0s 2ms/step - loss: 9.7450e-04 - mae: 0.0214 - mse: 9.7450e-04\n",
      "Epoch 46/60\n",
      "94/94 [==============================] - 0s 2ms/step - loss: 9.3382e-04 - mae: 0.0211 - mse: 9.3382e-04\n",
      "Epoch 47/60\n",
      "94/94 [==============================] - 0s 2ms/step - loss: 7.8370e-04 - mae: 0.0189 - mse: 7.8370e-04\n",
      "Epoch 48/60\n",
      "94/94 [==============================] - 0s 2ms/step - loss: 9.0554e-04 - mae: 0.0218 - mse: 9.0554e-04\n",
      "Epoch 49/60\n",
      "94/94 [==============================] - 0s 1ms/step - loss: 7.4745e-04 - mae: 0.0189 - mse: 7.4745e-04\n",
      "Epoch 50/60\n",
      "94/94 [==============================] - 0s 1ms/step - loss: 6.6769e-04 - mae: 0.0178 - mse: 6.6769e-04\n",
      "Epoch 51/60\n",
      "94/94 [==============================] - 0s 2ms/step - loss: 7.1400e-04 - mae: 0.0194 - mse: 7.1400e-04\n",
      "Epoch 52/60\n",
      "94/94 [==============================] - 0s 2ms/step - loss: 5.9790e-04 - mae: 0.0176 - mse: 5.9790e-04\n",
      "Epoch 53/60\n",
      "94/94 [==============================] - 0s 1ms/step - loss: 5.9023e-04 - mae: 0.0178 - mse: 5.9023e-04\n",
      "Epoch 54/60\n",
      "94/94 [==============================] - 0s 2ms/step - loss: 5.7989e-04 - mae: 0.0173 - mse: 5.7989e-04\n",
      "Epoch 55/60\n",
      "94/94 [==============================] - 0s 2ms/step - loss: 4.8497e-04 - mae: 0.0155 - mse: 4.8497e-04\n",
      "Epoch 56/60\n",
      "94/94 [==============================] - 0s 2ms/step - loss: 4.6709e-04 - mae: 0.0152 - mse: 4.6709e-04\n",
      "Epoch 57/60\n",
      "94/94 [==============================] - 0s 2ms/step - loss: 4.7970e-04 - mae: 0.0160 - mse: 4.7970e-04\n",
      "Epoch 58/60\n",
      "94/94 [==============================] - 0s 2ms/step - loss: 4.7711e-04 - mae: 0.0159 - mse: 4.7711e-04\n",
      "Epoch 59/60\n",
      "94/94 [==============================] - 0s 2ms/step - loss: 4.9161e-04 - mae: 0.0165 - mse: 4.9161e-04\n",
      "Epoch 60/60\n",
      "94/94 [==============================] - 0s 2ms/step - loss: 5.7853e-04 - mae: 0.0174 - mse: 5.7853e-04\n"
     ]
    },
    {
     "data": {
      "text/html": [
       "Waiting for W&B process to finish... <strong style=\"color:green\">(success).</strong>"
      ],
      "text/plain": [
       "<IPython.core.display.HTML object>"
      ]
     },
     "metadata": {},
     "output_type": "display_data"
    },
    {
     "data": {
      "text/html": [
       "<style>\n",
       "    table.wandb td:nth-child(1) { padding: 0 10px; text-align: left ; width: auto;} td:nth-child(2) {text-align: left ; width: 100%}\n",
       "    .wandb-row { display: flex; flex-direction: row; flex-wrap: wrap; justify-content: flex-start; width: 100% }\n",
       "    .wandb-col { display: flex; flex-direction: column; flex-basis: 100%; flex: 1; padding: 10px; }\n",
       "    </style>\n",
       "<div class=\"wandb-row\"><div class=\"wandb-col\"><h3>Run history:</h3><br/><table class=\"wandb\"><tr><td>batch/batch_step</td><td>▁▁▁▁▂▂▂▂▂▃▃▃▃▃▃▄▄▄▄▄▅▅▅▅▅▅▆▆▆▆▆▇▇▇▇▇▇███</td></tr><tr><td>batch/learning_rate</td><td>▁▁▁▁▁▁▁▁▁▁▁▁▁▁▁▁▁▁▁▁▁▁▁▁▁▁▁▁▁▁▁▁▁▁▁▁▁▁▁▁</td></tr><tr><td>batch/loss</td><td>█▅▄▄▄▄▄▄▄▃▃▃▂▂▂▁▁▁▁▁▁▁▁▁▁▁▁▁▁▁▁▁▁▁▁▁▁▁▁▁</td></tr><tr><td>batch/mae</td><td>█▇▆▅▆▅▅▅▅▅▅▄▃▃▃▂▂▂▂▂▂▂▁▁▂▁▁▁▁▁▁▁▁▁▁▁▁▁▁▁</td></tr><tr><td>batch/mse</td><td>█▅▄▄▄▄▄▄▄▃▃▃▂▂▂▁▁▁▁▁▁▁▁▁▁▁▁▁▁▁▁▁▁▁▁▁▁▁▁▁</td></tr><tr><td>epoch/epoch</td><td>▁▁▁▁▂▂▂▂▂▃▃▃▃▃▃▄▄▄▄▄▅▅▅▅▅▅▆▆▆▆▆▆▇▇▇▇▇███</td></tr><tr><td>epoch/learning_rate</td><td>▁▁▁▁▁▁▁▁▁▁▁▁▁▁▁▁▁▁▁▁▁▁▁▁▁▁▁▁▁▁▁▁▁▁▁▁▁▁▁▁</td></tr><tr><td>epoch/loss</td><td>█▅▄▄▄▄▄▄▄▄▃▃▂▂▂▁▁▁▁▁▁▁▁▁▁▁▁▁▁▁▁▁▁▁▁▁▁▁▁▁</td></tr><tr><td>epoch/mae</td><td>█▆▆▆▆▆▅▅▅▅▅▄▃▃▂▂▂▂▂▂▂▂▁▁▁▁▁▁▁▁▁▁▁▁▁▁▁▁▁▁</td></tr><tr><td>epoch/mse</td><td>█▅▄▄▄▄▄▄▄▄▃▃▂▂▂▁▁▁▁▁▁▁▁▁▁▁▁▁▁▁▁▁▁▁▁▁▁▁▁▁</td></tr></table><br/></div><div class=\"wandb-col\"><h3>Run summary:</h3><br/><table class=\"wandb\"><tr><td>batch/batch_step</td><td>5695</td></tr><tr><td>batch/learning_rate</td><td>0.001</td></tr><tr><td>batch/loss</td><td>0.00057</td></tr><tr><td>batch/mae</td><td>0.01728</td></tr><tr><td>batch/mse</td><td>0.00057</td></tr><tr><td>epoch/epoch</td><td>59</td></tr><tr><td>epoch/learning_rate</td><td>0.001</td></tr><tr><td>epoch/loss</td><td>0.00058</td></tr><tr><td>epoch/mae</td><td>0.01742</td></tr><tr><td>epoch/mse</td><td>0.00058</td></tr></table><br/></div></div>"
      ],
      "text/plain": [
       "<IPython.core.display.HTML object>"
      ]
     },
     "metadata": {},
     "output_type": "display_data"
    },
    {
     "data": {
      "text/html": [
       " View run <strong style=\"color:#cdcd00\">feasible-spaceship-5</strong> at: <a href='https://wandb.ai/zorin-evgenii/230704_trial_project1/runs/9hjle9c7' target=\"_blank\">https://wandb.ai/zorin-evgenii/230704_trial_project1/runs/9hjle9c7</a><br/>Synced 6 W&B file(s), 0 media file(s), 0 artifact file(s) and 0 other file(s)"
      ],
      "text/plain": [
       "<IPython.core.display.HTML object>"
      ]
     },
     "metadata": {},
     "output_type": "display_data"
    },
    {
     "data": {
      "text/html": [
       "Find logs at: <code>.\\wandb\\run-20230704_165622-9hjle9c7\\logs</code>"
      ],
      "text/plain": [
       "<IPython.core.display.HTML object>"
      ]
     },
     "metadata": {},
     "output_type": "display_data"
    }
   ],
   "source": [
    "import tensorflow as tf\n",
    "import numpy as np\n",
    "import matplotlib.pyplot as plt\n",
    "import seaborn as sns\n",
    "from tensorflow.keras.layers import Input, Dense, LeakyReLU\n",
    "from wandb.keras import WandbMetricsLogger, WandbModelCheckpoint\n",
    "\n",
    "wandb.init(\n",
    "    project = '230704_trial_project1', \n",
    "    config = {\n",
    "        'epochs': 60,\n",
    "        'batch_size': 128\n",
    "    }\n",
    ")\n",
    "\n",
    "config = wandb.config\n",
    "\n",
    "### Define f(x)\n",
    "f = lambda x: 0.5 * np.sin(2 * np.pi * x) + 0.5\n",
    "# f = lambda x: x**4 + 4*x**3 + 4.5*x**2 + x - 1\n",
    "# f = lambda x: x**2\n",
    "\n",
    "start, end = 0, 2\n",
    "\n",
    "\n",
    "model2 = tf.keras.Sequential([\n",
    "    Input(shape=(1,)),\n",
    "    Dense(units=20, activation=LeakyReLU()),\n",
    "    Dense(units=20, activation=LeakyReLU()),\n",
    "    Dense(units=20, activation=LeakyReLU()),\n",
    "    Dense(units=1, activation=LeakyReLU())\n",
    "])\n",
    "model2.compile(loss='mse', optimizer='adam', metrics=['mae', 'mse'])\n",
    "model2.summary()\n",
    "n = 3000\n",
    "history = model2.fit(\n",
    "    x = np.linspace(start, end,n),\n",
    "    y = f(np.linspace(start, end,n)),\n",
    "    # epochs = 60,\n",
    "    epochs = config.epochs,\n",
    "    callbacks = [\n",
    "        WandbMetricsLogger(log_freq=5)\n",
    "    ]\n",
    ")\n",
    "\n",
    "\n",
    "wandb.finish()"
   ]
  }
 ],
 "metadata": {
  "kernelspec": {
   "display_name": "ML",
   "language": "python",
   "name": "python3"
  },
  "language_info": {
   "codemirror_mode": {
    "name": "ipython",
    "version": 3
   },
   "file_extension": ".py",
   "mimetype": "text/x-python",
   "name": "python",
   "nbconvert_exporter": "python",
   "pygments_lexer": "ipython3",
   "version": "3.9.16"
  },
  "orig_nbformat": 4
 },
 "nbformat": 4,
 "nbformat_minor": 2
}
